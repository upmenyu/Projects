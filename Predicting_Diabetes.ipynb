{
 "cells": [
  {
   "cell_type": "markdown",
   "metadata": {},
   "source": [
    "## Classifying Diabetes"
   ]
  },
  {
   "cell_type": "markdown",
   "metadata": {},
   "source": [
    "### The objective of this project is to fit a model to try and predict which people are at risk or already have Type-II Diabetes."
   ]
  },
  {
   "cell_type": "markdown",
   "metadata": {},
   "source": [
    "###### The info for this Dataset can be found [here:](http://biostat.mc.vanderbilt.edu/wiki/pub/Main/DataSets/diabetes.html)\n",
    "###### Specific feature info can be found [here:](http://biostat.mc.vanderbilt.edu/wiki/pub/Main/DataSets/Cdiabetes.html)"
   ]
  },
  {
   "cell_type": "code",
   "execution_count": 1,
   "metadata": {},
   "outputs": [],
   "source": [
    "import pandas as pd\n",
    "import numpy as np\n",
    "import matplotlib.pyplot as plt\n",
    "import seaborn as sns\n",
    "%matplotlib inline"
   ]
  },
  {
   "cell_type": "markdown",
   "metadata": {},
   "source": [
    "###### The data can be downloaded with the url defined below, in the code blocks."
   ]
  },
  {
   "cell_type": "code",
   "execution_count": 2,
   "metadata": {},
   "outputs": [],
   "source": [
    "url = 'http://biostat.mc.vanderbilt.edu/wiki/pub/Main/DataSets/diabetes.csv'\n",
    "df = pd.read_csv(url, sep = ',')"
   ]
  },
  {
   "cell_type": "code",
   "execution_count": 3,
   "metadata": {},
   "outputs": [
    {
     "name": "stdout",
     "output_type": "stream",
     "text": [
      "<class 'pandas.core.frame.DataFrame'>\n",
      "RangeIndex: 403 entries, 0 to 402\n",
      "Data columns (total 19 columns):\n",
      "id          403 non-null int64\n",
      "chol        402 non-null float64\n",
      "stab.glu    403 non-null int64\n",
      "hdl         402 non-null float64\n",
      "ratio       402 non-null float64\n",
      "glyhb       390 non-null float64\n",
      "location    403 non-null object\n",
      "age         403 non-null int64\n",
      "gender      403 non-null object\n",
      "height      398 non-null float64\n",
      "weight      402 non-null float64\n",
      "frame       391 non-null object\n",
      "bp.1s       398 non-null float64\n",
      "bp.1d       398 non-null float64\n",
      "bp.2s       141 non-null float64\n",
      "bp.2d       141 non-null float64\n",
      "waist       401 non-null float64\n",
      "hip         401 non-null float64\n",
      "time.ppn    400 non-null float64\n",
      "dtypes: float64(13), int64(3), object(3)\n",
      "memory usage: 59.9+ KB\n"
     ]
    }
   ],
   "source": [
    "df.info()"
   ]
  },
  {
   "cell_type": "markdown",
   "metadata": {},
   "source": [
    "###### This Dataset has 403 observations and 19 variables, maximum # NAs is 262. It may be necessary to explore the NaNs since there's a significant amount. There are also three object-type(categorical) features; rest of the dataset is numerical."
   ]
  },
  {
   "cell_type": "code",
   "execution_count": null,
   "metadata": {},
   "outputs": [],
   "source": []
  },
  {
   "cell_type": "code",
   "execution_count": 4,
   "metadata": {},
   "outputs": [
    {
     "data": {
      "text/html": [
       "<div>\n",
       "<style scoped>\n",
       "    .dataframe tbody tr th:only-of-type {\n",
       "        vertical-align: middle;\n",
       "    }\n",
       "\n",
       "    .dataframe tbody tr th {\n",
       "        vertical-align: top;\n",
       "    }\n",
       "\n",
       "    .dataframe thead th {\n",
       "        text-align: right;\n",
       "    }\n",
       "</style>\n",
       "<table border=\"1\" class=\"dataframe\">\n",
       "  <thead>\n",
       "    <tr style=\"text-align: right;\">\n",
       "      <th></th>\n",
       "      <th>id</th>\n",
       "      <th>chol</th>\n",
       "      <th>stab.glu</th>\n",
       "      <th>hdl</th>\n",
       "      <th>ratio</th>\n",
       "      <th>glyhb</th>\n",
       "      <th>location</th>\n",
       "      <th>age</th>\n",
       "      <th>gender</th>\n",
       "      <th>height</th>\n",
       "      <th>weight</th>\n",
       "      <th>frame</th>\n",
       "      <th>bp.1s</th>\n",
       "      <th>bp.1d</th>\n",
       "      <th>bp.2s</th>\n",
       "      <th>bp.2d</th>\n",
       "      <th>waist</th>\n",
       "      <th>hip</th>\n",
       "      <th>time.ppn</th>\n",
       "    </tr>\n",
       "  </thead>\n",
       "  <tbody>\n",
       "    <tr>\n",
       "      <th>0</th>\n",
       "      <td>1000</td>\n",
       "      <td>203.0</td>\n",
       "      <td>82</td>\n",
       "      <td>56.0</td>\n",
       "      <td>3.6</td>\n",
       "      <td>4.31</td>\n",
       "      <td>Buckingham</td>\n",
       "      <td>46</td>\n",
       "      <td>female</td>\n",
       "      <td>62.0</td>\n",
       "      <td>121.0</td>\n",
       "      <td>medium</td>\n",
       "      <td>118.0</td>\n",
       "      <td>59.0</td>\n",
       "      <td>NaN</td>\n",
       "      <td>NaN</td>\n",
       "      <td>29.0</td>\n",
       "      <td>38.0</td>\n",
       "      <td>720.0</td>\n",
       "    </tr>\n",
       "    <tr>\n",
       "      <th>1</th>\n",
       "      <td>1001</td>\n",
       "      <td>165.0</td>\n",
       "      <td>97</td>\n",
       "      <td>24.0</td>\n",
       "      <td>6.9</td>\n",
       "      <td>4.44</td>\n",
       "      <td>Buckingham</td>\n",
       "      <td>29</td>\n",
       "      <td>female</td>\n",
       "      <td>64.0</td>\n",
       "      <td>218.0</td>\n",
       "      <td>large</td>\n",
       "      <td>112.0</td>\n",
       "      <td>68.0</td>\n",
       "      <td>NaN</td>\n",
       "      <td>NaN</td>\n",
       "      <td>46.0</td>\n",
       "      <td>48.0</td>\n",
       "      <td>360.0</td>\n",
       "    </tr>\n",
       "    <tr>\n",
       "      <th>2</th>\n",
       "      <td>1002</td>\n",
       "      <td>228.0</td>\n",
       "      <td>92</td>\n",
       "      <td>37.0</td>\n",
       "      <td>6.2</td>\n",
       "      <td>4.64</td>\n",
       "      <td>Buckingham</td>\n",
       "      <td>58</td>\n",
       "      <td>female</td>\n",
       "      <td>61.0</td>\n",
       "      <td>256.0</td>\n",
       "      <td>large</td>\n",
       "      <td>190.0</td>\n",
       "      <td>92.0</td>\n",
       "      <td>185.0</td>\n",
       "      <td>92.0</td>\n",
       "      <td>49.0</td>\n",
       "      <td>57.0</td>\n",
       "      <td>180.0</td>\n",
       "    </tr>\n",
       "    <tr>\n",
       "      <th>3</th>\n",
       "      <td>1003</td>\n",
       "      <td>78.0</td>\n",
       "      <td>93</td>\n",
       "      <td>12.0</td>\n",
       "      <td>6.5</td>\n",
       "      <td>4.63</td>\n",
       "      <td>Buckingham</td>\n",
       "      <td>67</td>\n",
       "      <td>male</td>\n",
       "      <td>67.0</td>\n",
       "      <td>119.0</td>\n",
       "      <td>large</td>\n",
       "      <td>110.0</td>\n",
       "      <td>50.0</td>\n",
       "      <td>NaN</td>\n",
       "      <td>NaN</td>\n",
       "      <td>33.0</td>\n",
       "      <td>38.0</td>\n",
       "      <td>480.0</td>\n",
       "    </tr>\n",
       "    <tr>\n",
       "      <th>4</th>\n",
       "      <td>1005</td>\n",
       "      <td>249.0</td>\n",
       "      <td>90</td>\n",
       "      <td>28.0</td>\n",
       "      <td>8.9</td>\n",
       "      <td>7.72</td>\n",
       "      <td>Buckingham</td>\n",
       "      <td>64</td>\n",
       "      <td>male</td>\n",
       "      <td>68.0</td>\n",
       "      <td>183.0</td>\n",
       "      <td>medium</td>\n",
       "      <td>138.0</td>\n",
       "      <td>80.0</td>\n",
       "      <td>NaN</td>\n",
       "      <td>NaN</td>\n",
       "      <td>44.0</td>\n",
       "      <td>41.0</td>\n",
       "      <td>300.0</td>\n",
       "    </tr>\n",
       "  </tbody>\n",
       "</table>\n",
       "</div>"
      ],
      "text/plain": [
       "     id   chol  stab.glu   hdl  ratio  glyhb    location  age  gender  height  \\\n",
       "0  1000  203.0        82  56.0    3.6   4.31  Buckingham   46  female    62.0   \n",
       "1  1001  165.0        97  24.0    6.9   4.44  Buckingham   29  female    64.0   \n",
       "2  1002  228.0        92  37.0    6.2   4.64  Buckingham   58  female    61.0   \n",
       "3  1003   78.0        93  12.0    6.5   4.63  Buckingham   67    male    67.0   \n",
       "4  1005  249.0        90  28.0    8.9   7.72  Buckingham   64    male    68.0   \n",
       "\n",
       "   weight   frame  bp.1s  bp.1d  bp.2s  bp.2d  waist   hip  time.ppn  \n",
       "0   121.0  medium  118.0   59.0    NaN    NaN   29.0  38.0     720.0  \n",
       "1   218.0   large  112.0   68.0    NaN    NaN   46.0  48.0     360.0  \n",
       "2   256.0   large  190.0   92.0  185.0   92.0   49.0  57.0     180.0  \n",
       "3   119.0   large  110.0   50.0    NaN    NaN   33.0  38.0     480.0  \n",
       "4   183.0  medium  138.0   80.0    NaN    NaN   44.0  41.0     300.0  "
      ]
     },
     "execution_count": 4,
     "metadata": {},
     "output_type": "execute_result"
    }
   ],
   "source": [
    "# Observe the features\n",
    "df.head()"
   ]
  },
  {
   "cell_type": "code",
   "execution_count": 5,
   "metadata": {},
   "outputs": [
    {
     "data": {
      "text/html": [
       "<div>\n",
       "<style scoped>\n",
       "    .dataframe tbody tr th:only-of-type {\n",
       "        vertical-align: middle;\n",
       "    }\n",
       "\n",
       "    .dataframe tbody tr th {\n",
       "        vertical-align: top;\n",
       "    }\n",
       "\n",
       "    .dataframe thead th {\n",
       "        text-align: right;\n",
       "    }\n",
       "</style>\n",
       "<table border=\"1\" class=\"dataframe\">\n",
       "  <thead>\n",
       "    <tr style=\"text-align: right;\">\n",
       "      <th></th>\n",
       "      <th>id</th>\n",
       "      <th>chol</th>\n",
       "      <th>stab.glu</th>\n",
       "      <th>hdl</th>\n",
       "      <th>ratio</th>\n",
       "      <th>glyhb</th>\n",
       "      <th>location</th>\n",
       "      <th>age</th>\n",
       "      <th>gender</th>\n",
       "      <th>height</th>\n",
       "      <th>weight</th>\n",
       "      <th>frame</th>\n",
       "      <th>bp.1s</th>\n",
       "      <th>bp.1d</th>\n",
       "      <th>bp.2s</th>\n",
       "      <th>bp.2d</th>\n",
       "      <th>waist</th>\n",
       "      <th>hip</th>\n",
       "      <th>time.ppn</th>\n",
       "    </tr>\n",
       "  </thead>\n",
       "  <tbody>\n",
       "    <tr>\n",
       "      <th>398</th>\n",
       "      <td>41506</td>\n",
       "      <td>296.0</td>\n",
       "      <td>369</td>\n",
       "      <td>46.0</td>\n",
       "      <td>6.4</td>\n",
       "      <td>16.110001</td>\n",
       "      <td>Louisa</td>\n",
       "      <td>53</td>\n",
       "      <td>male</td>\n",
       "      <td>69.0</td>\n",
       "      <td>173.0</td>\n",
       "      <td>medium</td>\n",
       "      <td>138.0</td>\n",
       "      <td>94.0</td>\n",
       "      <td>130.0</td>\n",
       "      <td>94.0</td>\n",
       "      <td>35.0</td>\n",
       "      <td>39.0</td>\n",
       "      <td>210.0</td>\n",
       "    </tr>\n",
       "    <tr>\n",
       "      <th>399</th>\n",
       "      <td>41507</td>\n",
       "      <td>284.0</td>\n",
       "      <td>89</td>\n",
       "      <td>54.0</td>\n",
       "      <td>5.3</td>\n",
       "      <td>4.390000</td>\n",
       "      <td>Louisa</td>\n",
       "      <td>51</td>\n",
       "      <td>female</td>\n",
       "      <td>63.0</td>\n",
       "      <td>154.0</td>\n",
       "      <td>medium</td>\n",
       "      <td>140.0</td>\n",
       "      <td>100.0</td>\n",
       "      <td>146.0</td>\n",
       "      <td>102.0</td>\n",
       "      <td>32.0</td>\n",
       "      <td>43.0</td>\n",
       "      <td>180.0</td>\n",
       "    </tr>\n",
       "    <tr>\n",
       "      <th>400</th>\n",
       "      <td>41510</td>\n",
       "      <td>194.0</td>\n",
       "      <td>269</td>\n",
       "      <td>38.0</td>\n",
       "      <td>5.1</td>\n",
       "      <td>13.630000</td>\n",
       "      <td>Louisa</td>\n",
       "      <td>29</td>\n",
       "      <td>female</td>\n",
       "      <td>69.0</td>\n",
       "      <td>167.0</td>\n",
       "      <td>small</td>\n",
       "      <td>120.0</td>\n",
       "      <td>70.0</td>\n",
       "      <td>NaN</td>\n",
       "      <td>NaN</td>\n",
       "      <td>33.0</td>\n",
       "      <td>40.0</td>\n",
       "      <td>20.0</td>\n",
       "    </tr>\n",
       "    <tr>\n",
       "      <th>401</th>\n",
       "      <td>41752</td>\n",
       "      <td>199.0</td>\n",
       "      <td>76</td>\n",
       "      <td>52.0</td>\n",
       "      <td>3.8</td>\n",
       "      <td>4.490000</td>\n",
       "      <td>Louisa</td>\n",
       "      <td>41</td>\n",
       "      <td>female</td>\n",
       "      <td>63.0</td>\n",
       "      <td>197.0</td>\n",
       "      <td>medium</td>\n",
       "      <td>120.0</td>\n",
       "      <td>78.0</td>\n",
       "      <td>NaN</td>\n",
       "      <td>NaN</td>\n",
       "      <td>41.0</td>\n",
       "      <td>48.0</td>\n",
       "      <td>255.0</td>\n",
       "    </tr>\n",
       "    <tr>\n",
       "      <th>402</th>\n",
       "      <td>41756</td>\n",
       "      <td>159.0</td>\n",
       "      <td>88</td>\n",
       "      <td>79.0</td>\n",
       "      <td>2.0</td>\n",
       "      <td>NaN</td>\n",
       "      <td>Louisa</td>\n",
       "      <td>68</td>\n",
       "      <td>female</td>\n",
       "      <td>64.0</td>\n",
       "      <td>220.0</td>\n",
       "      <td>medium</td>\n",
       "      <td>100.0</td>\n",
       "      <td>72.0</td>\n",
       "      <td>NaN</td>\n",
       "      <td>NaN</td>\n",
       "      <td>49.0</td>\n",
       "      <td>58.0</td>\n",
       "      <td>900.0</td>\n",
       "    </tr>\n",
       "  </tbody>\n",
       "</table>\n",
       "</div>"
      ],
      "text/plain": [
       "        id   chol  stab.glu   hdl  ratio      glyhb location  age  gender  \\\n",
       "398  41506  296.0       369  46.0    6.4  16.110001   Louisa   53    male   \n",
       "399  41507  284.0        89  54.0    5.3   4.390000   Louisa   51  female   \n",
       "400  41510  194.0       269  38.0    5.1  13.630000   Louisa   29  female   \n",
       "401  41752  199.0        76  52.0    3.8   4.490000   Louisa   41  female   \n",
       "402  41756  159.0        88  79.0    2.0        NaN   Louisa   68  female   \n",
       "\n",
       "     height  weight   frame  bp.1s  bp.1d  bp.2s  bp.2d  waist   hip  time.ppn  \n",
       "398    69.0   173.0  medium  138.0   94.0  130.0   94.0   35.0  39.0     210.0  \n",
       "399    63.0   154.0  medium  140.0  100.0  146.0  102.0   32.0  43.0     180.0  \n",
       "400    69.0   167.0   small  120.0   70.0    NaN    NaN   33.0  40.0      20.0  \n",
       "401    63.0   197.0  medium  120.0   78.0    NaN    NaN   41.0  48.0     255.0  \n",
       "402    64.0   220.0  medium  100.0   72.0    NaN    NaN   49.0  58.0     900.0  "
      ]
     },
     "execution_count": 5,
     "metadata": {},
     "output_type": "execute_result"
    }
   ],
   "source": [
    "df.tail()"
   ]
  },
  {
   "cell_type": "markdown",
   "metadata": {},
   "source": [
    "##### The features bp.2s and bp.2d seem to have a lot of NaNs "
   ]
  },
  {
   "cell_type": "code",
   "execution_count": 6,
   "metadata": {},
   "outputs": [
    {
     "data": {
      "image/png": "[encoded data removed]",
      "text/plain": [
       "<matplotlib.figure.Figure at 0x1a0aec2f28>"
      ]
     },
     "metadata": {},
     "output_type": "display_data"
    }
   ],
   "source": [
    "# Visualizing the null values\n",
    "sns.heatmap(df.isnull(), yticklabels = False, cbar= False, cmap = 'viridis')\n",
    "plt.title('Visualization of Missing Values')\n",
    "plt.tight_layout()\n",
    "plt.show()"
   ]
  },
  {
   "cell_type": "code",
   "execution_count": 7,
   "metadata": {},
   "outputs": [],
   "source": [
    "# From the plot above, we can see that the second systolic and disystolic blood pressure columns have too many missing\n",
    "# values and therefore should be dropped.\n",
    "\n",
    "# The following code will drop the two second blood pressure columns, as well as time.ppn and hip and waist because \n",
    "# the ratio variable contains information from both hip and waste, i.e ratio = hip/waist, the frame column also seems \n",
    "# to be a simmilar metric to ratio, essientially another size measurement.\n",
    "\n",
    "df.drop(columns = ['id','bp.2s','bp.2d','time.ppn', 'hip', 'waist', 'frame'], inplace = True)\n",
    "\n",
    "# The missing rows for glyhb should also be dropped because it will be the output for the ML model later on.\n",
    "# Imputing for the output column data might lead to bias.\n",
    "\n",
    "df.dropna(subset=['glyhb'], axis=0, inplace=True)"
   ]
  },
  {
   "cell_type": "code",
   "execution_count": 8,
   "metadata": {},
   "outputs": [
    {
     "data": {
      "image/png": "[encoded data removed]",
      "text/plain": [
       "<matplotlib.figure.Figure at 0x1a0aec29b0>"
      ]
     },
     "metadata": {},
     "output_type": "display_data"
    }
   ],
   "source": [
    "# Visualizing Null values again\n",
    "sns.heatmap(df.isnull(), yticklabels = False, cbar= False, cmap = 'viridis')\n",
    "plt.title('Visualization of Missing Values')\n",
    "plt.tight_layout()\n",
    "plt.show()"
   ]
  },
  {
   "cell_type": "code",
   "execution_count": 9,
   "metadata": {},
   "outputs": [
    {
     "data": {
      "text/html": [
       "<div>\n",
       "<style scoped>\n",
       "    .dataframe tbody tr th:only-of-type {\n",
       "        vertical-align: middle;\n",
       "    }\n",
       "\n",
       "    .dataframe tbody tr th {\n",
       "        vertical-align: top;\n",
       "    }\n",
       "\n",
       "    .dataframe thead th {\n",
       "        text-align: right;\n",
       "    }\n",
       "</style>\n",
       "<table border=\"1\" class=\"dataframe\">\n",
       "  <thead>\n",
       "    <tr style=\"text-align: right;\">\n",
       "      <th></th>\n",
       "      <th>chol</th>\n",
       "      <th>stab.glu</th>\n",
       "      <th>hdl</th>\n",
       "      <th>ratio</th>\n",
       "      <th>glyhb</th>\n",
       "      <th>location</th>\n",
       "      <th>age</th>\n",
       "      <th>gender</th>\n",
       "      <th>height</th>\n",
       "      <th>weight</th>\n",
       "      <th>bp.1s</th>\n",
       "      <th>bp.1d</th>\n",
       "    </tr>\n",
       "  </thead>\n",
       "  <tbody>\n",
       "    <tr>\n",
       "      <th>63</th>\n",
       "      <td>145.0</td>\n",
       "      <td>85</td>\n",
       "      <td>29.0</td>\n",
       "      <td>5.0</td>\n",
       "      <td>3.99</td>\n",
       "      <td>Buckingham</td>\n",
       "      <td>38</td>\n",
       "      <td>female</td>\n",
       "      <td>NaN</td>\n",
       "      <td>125.0</td>\n",
       "      <td>NaN</td>\n",
       "      <td>NaN</td>\n",
       "    </tr>\n",
       "    <tr>\n",
       "      <th>86</th>\n",
       "      <td>218.0</td>\n",
       "      <td>182</td>\n",
       "      <td>54.0</td>\n",
       "      <td>4.0</td>\n",
       "      <td>10.55</td>\n",
       "      <td>Louisa</td>\n",
       "      <td>51</td>\n",
       "      <td>female</td>\n",
       "      <td>NaN</td>\n",
       "      <td>215.0</td>\n",
       "      <td>139.0</td>\n",
       "      <td>69.0</td>\n",
       "    </tr>\n",
       "    <tr>\n",
       "      <th>195</th>\n",
       "      <td>173.0</td>\n",
       "      <td>83</td>\n",
       "      <td>37.0</td>\n",
       "      <td>4.7</td>\n",
       "      <td>4.31</td>\n",
       "      <td>Buckingham</td>\n",
       "      <td>40</td>\n",
       "      <td>female</td>\n",
       "      <td>NaN</td>\n",
       "      <td>130.0</td>\n",
       "      <td>122.0</td>\n",
       "      <td>76.0</td>\n",
       "    </tr>\n",
       "    <tr>\n",
       "      <th>231</th>\n",
       "      <td>214.0</td>\n",
       "      <td>87</td>\n",
       "      <td>35.0</td>\n",
       "      <td>6.1</td>\n",
       "      <td>5.38</td>\n",
       "      <td>Buckingham</td>\n",
       "      <td>44</td>\n",
       "      <td>female</td>\n",
       "      <td>NaN</td>\n",
       "      <td>190.0</td>\n",
       "      <td>140.0</td>\n",
       "      <td>75.0</td>\n",
       "    </tr>\n",
       "    <tr>\n",
       "      <th>317</th>\n",
       "      <td>300.0</td>\n",
       "      <td>65</td>\n",
       "      <td>59.0</td>\n",
       "      <td>5.1</td>\n",
       "      <td>4.56</td>\n",
       "      <td>Louisa</td>\n",
       "      <td>34</td>\n",
       "      <td>female</td>\n",
       "      <td>NaN</td>\n",
       "      <td>160.0</td>\n",
       "      <td>120.0</td>\n",
       "      <td>60.0</td>\n",
       "    </tr>\n",
       "  </tbody>\n",
       "</table>\n",
       "</div>"
      ],
      "text/plain": [
       "      chol  stab.glu   hdl  ratio  glyhb    location  age  gender  height  \\\n",
       "63   145.0        85  29.0    5.0   3.99  Buckingham   38  female     NaN   \n",
       "86   218.0       182  54.0    4.0  10.55      Louisa   51  female     NaN   \n",
       "195  173.0        83  37.0    4.7   4.31  Buckingham   40  female     NaN   \n",
       "231  214.0        87  35.0    6.1   5.38  Buckingham   44  female     NaN   \n",
       "317  300.0        65  59.0    5.1   4.56      Louisa   34  female     NaN   \n",
       "\n",
       "     weight  bp.1s  bp.1d  \n",
       "63    125.0    NaN    NaN  \n",
       "86    215.0  139.0   69.0  \n",
       "195   130.0  122.0   76.0  \n",
       "231   190.0  140.0   75.0  \n",
       "317   160.0  120.0   60.0  "
      ]
     },
     "execution_count": 9,
     "metadata": {},
     "output_type": "execute_result"
    }
   ],
   "source": [
    "df[df['height'].isna()]"
   ]
  },
  {
   "cell_type": "markdown",
   "metadata": {},
   "source": [
    "#### It seems that among all the people with missing heights, they all are female. It would be of interest to explore this further."
   ]
  },
  {
   "cell_type": "code",
   "execution_count": 10,
   "metadata": {},
   "outputs": [
    {
     "data": {
      "text/plain": [
       "Text(0.5,1,'Height vs Gender')"
      ]
     },
     "execution_count": 10,
     "metadata": {},
     "output_type": "execute_result"
    },
    {
     "data": {
      "image/png": "[encoded data removed]",
      "text/plain": [
       "<matplotlib.figure.Figure at 0x1a13e2ea90>"
      ]
     },
     "metadata": {},
     "output_type": "display_data"
    }
   ],
   "source": [
    "# Some visualizations for the height and gender features\n",
    "\n",
    "plt.figure(figsize=(20,5))\n",
    "plt.subplot(1,2,1)\n",
    "sns.violinplot(y ='weight', x = 'gender',data = df, split=True)\n",
    "plt.grid()\n",
    "plt.title('Weight Distribution vs Gender')\n",
    "\n",
    "plt.subplot(1,2,2)\n",
    "sns.violinplot(y ='height', x = 'gender',data = df, split=True )\n",
    "plt.grid()\n",
    "plt.title('Height vs Gender')\n"
   ]
  },
  {
   "cell_type": "code",
   "execution_count": 11,
   "metadata": {},
   "outputs": [
    {
     "data": {
      "text/plain": [
       "gender\n",
       "female    63.721973\n",
       "male      69.098765\n",
       "Name: height, dtype: float64"
      ]
     },
     "execution_count": 11,
     "metadata": {},
     "output_type": "execute_result"
    }
   ],
   "source": [
    "# Lets see the mean height by gender with a groupby statement\n",
    "df.groupby(['gender'])['height'].mean()"
   ]
  },
  {
   "cell_type": "code",
   "execution_count": 12,
   "metadata": {},
   "outputs": [
    {
     "data": {
      "text/plain": [
       "gender\n",
       "female    2.876405\n",
       "male      2.915390\n",
       "Name: height, dtype: float64"
      ]
     },
     "execution_count": 12,
     "metadata": {},
     "output_type": "execute_result"
    }
   ],
   "source": [
    "df.groupby(['gender'])['height'].std()"
   ]
  },
  {
   "cell_type": "markdown",
   "metadata": {},
   "source": [
    "#### From the groupby statements and plots, there seems to be a clear distinction among the heights in relation to the gender. The cutoff seems to be 65 and the average for females seem to be 63 +/- 2. Since all the people with missing heights are female, 63 may be the best value for imputation."
   ]
  },
  {
   "cell_type": "code",
   "execution_count": 13,
   "metadata": {},
   "outputs": [],
   "source": [
    "# Impute 63 for the missing heights"
   ]
  },
  {
   "cell_type": "code",
   "execution_count": 14,
   "metadata": {},
   "outputs": [],
   "source": [
    "df.fillna(value={'height': 63}, inplace=True)"
   ]
  },
  {
   "cell_type": "code",
   "execution_count": 15,
   "metadata": {},
   "outputs": [],
   "source": [
    "df.dropna(axis = 0, inplace=True)"
   ]
  },
  {
   "cell_type": "code",
   "execution_count": null,
   "metadata": {},
   "outputs": [],
   "source": []
  },
  {
   "cell_type": "code",
   "execution_count": 16,
   "metadata": {},
   "outputs": [
    {
     "name": "stdout",
     "output_type": "stream",
     "text": [
      "<class 'pandas.core.frame.DataFrame'>\n",
      "Int64Index: 383 entries, 0 to 401\n",
      "Data columns (total 12 columns):\n",
      "chol        383 non-null float64\n",
      "stab.glu    383 non-null int64\n",
      "hdl         383 non-null float64\n",
      "ratio       383 non-null float64\n",
      "glyhb       383 non-null float64\n",
      "location    383 non-null object\n",
      "age         383 non-null int64\n",
      "gender      383 non-null object\n",
      "height      383 non-null float64\n",
      "weight      383 non-null float64\n",
      "bp.1s       383 non-null float64\n",
      "bp.1d       383 non-null float64\n",
      "dtypes: float64(8), int64(2), object(2)\n",
      "memory usage: 38.9+ KB\n"
     ]
    }
   ],
   "source": [
    "df.info()"
   ]
  },
  {
   "cell_type": "code",
   "execution_count": 17,
   "metadata": {},
   "outputs": [
    {
     "data": {
      "text/plain": [
       "0.9551122194513716"
      ]
     },
     "execution_count": 17,
     "metadata": {},
     "output_type": "execute_result"
    }
   ],
   "source": [
    "383/401"
   ]
  },
  {
   "cell_type": "markdown",
   "metadata": {},
   "source": [
    "##### Notice all the features have 383 non-null observations. The last thing to do is to change the dtypes for the objects to categorical to free up the memory."
   ]
  },
  {
   "cell_type": "code",
   "execution_count": 18,
   "metadata": {},
   "outputs": [
    {
     "name": "stdout",
     "output_type": "stream",
     "text": [
      "<class 'pandas.core.frame.DataFrame'>\n",
      "Int64Index: 383 entries, 0 to 401\n",
      "Data columns (total 12 columns):\n",
      "chol        383 non-null float64\n",
      "stab.glu    383 non-null int64\n",
      "hdl         383 non-null float64\n",
      "ratio       383 non-null float64\n",
      "glyhb       383 non-null float64\n",
      "location    383 non-null category\n",
      "age         383 non-null int64\n",
      "gender      383 non-null category\n",
      "height      383 non-null float64\n",
      "weight      383 non-null float64\n",
      "bp.1s       383 non-null float64\n",
      "bp.1d       383 non-null float64\n",
      "dtypes: category(2), float64(8), int64(2)\n",
      "memory usage: 33.8 KB\n"
     ]
    }
   ],
   "source": [
    "# convert object columns to catagorical for mone efficient memory storage\n",
    "df.location = df.location.astype('category')\n",
    "df.gender = df.gender.astype('category')\n",
    "df.info()"
   ]
  },
  {
   "cell_type": "markdown",
   "metadata": {},
   "source": [
    "#### Now the memory usage is 33.8 KB insteat of 38.9+ KB as before. Next the categorical features will be one-hot-encoded in prparation for the ML models, and the output feature 'glyhb' also needs some processing."
   ]
  },
  {
   "cell_type": "code",
   "execution_count": 19,
   "metadata": {},
   "outputs": [],
   "source": [
    "cat = ['location','gender']\n",
    "df = pd.get_dummies(df,columns=cat, drop_first=True) # One Hot Encoding for categorical features"
   ]
  },
  {
   "cell_type": "code",
   "execution_count": 20,
   "metadata": {},
   "outputs": [
    {
     "data": {
      "text/html": [
       "<div>\n",
       "<style scoped>\n",
       "    .dataframe tbody tr th:only-of-type {\n",
       "        vertical-align: middle;\n",
       "    }\n",
       "\n",
       "    .dataframe tbody tr th {\n",
       "        vertical-align: top;\n",
       "    }\n",
       "\n",
       "    .dataframe thead th {\n",
       "        text-align: right;\n",
       "    }\n",
       "</style>\n",
       "<table border=\"1\" class=\"dataframe\">\n",
       "  <thead>\n",
       "    <tr style=\"text-align: right;\">\n",
       "      <th></th>\n",
       "      <th>chol</th>\n",
       "      <th>stab.glu</th>\n",
       "      <th>hdl</th>\n",
       "      <th>ratio</th>\n",
       "      <th>glyhb</th>\n",
       "      <th>age</th>\n",
       "      <th>height</th>\n",
       "      <th>weight</th>\n",
       "      <th>bp.1s</th>\n",
       "      <th>bp.1d</th>\n",
       "      <th>location_Louisa</th>\n",
       "      <th>gender_male</th>\n",
       "      <th>diabetes</th>\n",
       "    </tr>\n",
       "  </thead>\n",
       "  <tbody>\n",
       "    <tr>\n",
       "      <th>0</th>\n",
       "      <td>203.0</td>\n",
       "      <td>82</td>\n",
       "      <td>56.0</td>\n",
       "      <td>3.6</td>\n",
       "      <td>4.31</td>\n",
       "      <td>46</td>\n",
       "      <td>62.0</td>\n",
       "      <td>121.0</td>\n",
       "      <td>118.0</td>\n",
       "      <td>59.0</td>\n",
       "      <td>0</td>\n",
       "      <td>0</td>\n",
       "      <td>0</td>\n",
       "    </tr>\n",
       "    <tr>\n",
       "      <th>1</th>\n",
       "      <td>165.0</td>\n",
       "      <td>97</td>\n",
       "      <td>24.0</td>\n",
       "      <td>6.9</td>\n",
       "      <td>4.44</td>\n",
       "      <td>29</td>\n",
       "      <td>64.0</td>\n",
       "      <td>218.0</td>\n",
       "      <td>112.0</td>\n",
       "      <td>68.0</td>\n",
       "      <td>0</td>\n",
       "      <td>0</td>\n",
       "      <td>0</td>\n",
       "    </tr>\n",
       "    <tr>\n",
       "      <th>2</th>\n",
       "      <td>228.0</td>\n",
       "      <td>92</td>\n",
       "      <td>37.0</td>\n",
       "      <td>6.2</td>\n",
       "      <td>4.64</td>\n",
       "      <td>58</td>\n",
       "      <td>61.0</td>\n",
       "      <td>256.0</td>\n",
       "      <td>190.0</td>\n",
       "      <td>92.0</td>\n",
       "      <td>0</td>\n",
       "      <td>0</td>\n",
       "      <td>0</td>\n",
       "    </tr>\n",
       "    <tr>\n",
       "      <th>3</th>\n",
       "      <td>78.0</td>\n",
       "      <td>93</td>\n",
       "      <td>12.0</td>\n",
       "      <td>6.5</td>\n",
       "      <td>4.63</td>\n",
       "      <td>67</td>\n",
       "      <td>67.0</td>\n",
       "      <td>119.0</td>\n",
       "      <td>110.0</td>\n",
       "      <td>50.0</td>\n",
       "      <td>0</td>\n",
       "      <td>1</td>\n",
       "      <td>0</td>\n",
       "    </tr>\n",
       "    <tr>\n",
       "      <th>4</th>\n",
       "      <td>249.0</td>\n",
       "      <td>90</td>\n",
       "      <td>28.0</td>\n",
       "      <td>8.9</td>\n",
       "      <td>7.72</td>\n",
       "      <td>64</td>\n",
       "      <td>68.0</td>\n",
       "      <td>183.0</td>\n",
       "      <td>138.0</td>\n",
       "      <td>80.0</td>\n",
       "      <td>0</td>\n",
       "      <td>1</td>\n",
       "      <td>1</td>\n",
       "    </tr>\n",
       "  </tbody>\n",
       "</table>\n",
       "</div>"
      ],
      "text/plain": [
       "    chol  stab.glu   hdl  ratio  glyhb  age  height  weight  bp.1s  bp.1d  \\\n",
       "0  203.0        82  56.0    3.6   4.31   46    62.0   121.0  118.0   59.0   \n",
       "1  165.0        97  24.0    6.9   4.44   29    64.0   218.0  112.0   68.0   \n",
       "2  228.0        92  37.0    6.2   4.64   58    61.0   256.0  190.0   92.0   \n",
       "3   78.0        93  12.0    6.5   4.63   67    67.0   119.0  110.0   50.0   \n",
       "4  249.0        90  28.0    8.9   7.72   64    68.0   183.0  138.0   80.0   \n",
       "\n",
       "   location_Louisa  gender_male  diabetes  \n",
       "0                0            0         0  \n",
       "1                0            0         0  \n",
       "2                0            0         0  \n",
       "3                0            1         0  \n",
       "4                0            1         1  "
      ]
     },
     "execution_count": 20,
     "metadata": {},
     "output_type": "execute_result"
    }
   ],
   "source": [
    "# We need to change the glyhb feature from continuous to binary, and categorical\n",
    "def is_diabetes(x):\n",
    "    if x < 7:\n",
    "        return 0\n",
    "    else:\n",
    "        return 1\n",
    "df['diabetes'] = df['glyhb'].apply(is_diabetes)\n",
    "df.head()"
   ]
  },
  {
   "cell_type": "code",
   "execution_count": 21,
   "metadata": {},
   "outputs": [
    {
     "data": {
      "text/plain": [
       "0    324\n",
       "1     59\n",
       "Name: diabetes, dtype: int64"
      ]
     },
     "execution_count": 21,
     "metadata": {},
     "output_type": "execute_result"
    }
   ],
   "source": [
    "df['diabetes'].value_counts()"
   ]
  },
  {
   "cell_type": "markdown",
   "metadata": {},
   "source": [
    "#### The Data is now ready for model fitting using sklearn"
   ]
  },
  {
   "cell_type": "markdown",
   "metadata": {},
   "source": [
    "## Fitting a model for a baseline prediction"
   ]
  },
  {
   "cell_type": "code",
   "execution_count": 22,
   "metadata": {},
   "outputs": [
    {
     "name": "stderr",
     "output_type": "stream",
     "text": [
      "/anaconda3/lib/python3.6/site-packages/sklearn/cross_validation.py:41: DeprecationWarning: This module was deprecated in version 0.18 in favor of the model_selection module into which all the refactored classes and functions are moved. Also note that the interface of the new CV iterators are different from that of this module. This module will be removed in 0.20.\n",
      "  \"This module will be removed in 0.20.\", DeprecationWarning)\n"
     ]
    }
   ],
   "source": [
    "# import all the libraries needed\n",
    "\n",
    "from sklearn.model_selection import train_test_split\n",
    "from sklearn.linear_model import LogisticRegression\n",
    "from sklearn.metrics import classification_report, roc_auc_score, accuracy_score, confusion_matrix\n",
    "from sklearn.cross_validation import cross_val_score\n",
    "from sklearn.model_selection import GridSearchCV\n",
    "from sklearn.ensemble import RandomForestClassifier\n"
   ]
  },
  {
   "cell_type": "code",
   "execution_count": 23,
   "metadata": {},
   "outputs": [
    {
     "data": {
      "text/html": [
       "<div>\n",
       "<style scoped>\n",
       "    .dataframe tbody tr th:only-of-type {\n",
       "        vertical-align: middle;\n",
       "    }\n",
       "\n",
       "    .dataframe tbody tr th {\n",
       "        vertical-align: top;\n",
       "    }\n",
       "\n",
       "    .dataframe thead th {\n",
       "        text-align: right;\n",
       "    }\n",
       "</style>\n",
       "<table border=\"1\" class=\"dataframe\">\n",
       "  <thead>\n",
       "    <tr style=\"text-align: right;\">\n",
       "      <th></th>\n",
       "      <th>chol</th>\n",
       "      <th>stab.glu</th>\n",
       "      <th>hdl</th>\n",
       "      <th>ratio</th>\n",
       "      <th>glyhb</th>\n",
       "      <th>age</th>\n",
       "      <th>height</th>\n",
       "      <th>weight</th>\n",
       "      <th>bp.1s</th>\n",
       "      <th>bp.1d</th>\n",
       "      <th>location_Louisa</th>\n",
       "      <th>gender_male</th>\n",
       "      <th>diabetes</th>\n",
       "    </tr>\n",
       "  </thead>\n",
       "  <tbody>\n",
       "    <tr>\n",
       "      <th>0</th>\n",
       "      <td>203.0</td>\n",
       "      <td>82</td>\n",
       "      <td>56.0</td>\n",
       "      <td>3.6</td>\n",
       "      <td>4.31</td>\n",
       "      <td>46</td>\n",
       "      <td>62.0</td>\n",
       "      <td>121.0</td>\n",
       "      <td>118.0</td>\n",
       "      <td>59.0</td>\n",
       "      <td>0</td>\n",
       "      <td>0</td>\n",
       "      <td>0</td>\n",
       "    </tr>\n",
       "    <tr>\n",
       "      <th>1</th>\n",
       "      <td>165.0</td>\n",
       "      <td>97</td>\n",
       "      <td>24.0</td>\n",
       "      <td>6.9</td>\n",
       "      <td>4.44</td>\n",
       "      <td>29</td>\n",
       "      <td>64.0</td>\n",
       "      <td>218.0</td>\n",
       "      <td>112.0</td>\n",
       "      <td>68.0</td>\n",
       "      <td>0</td>\n",
       "      <td>0</td>\n",
       "      <td>0</td>\n",
       "    </tr>\n",
       "    <tr>\n",
       "      <th>2</th>\n",
       "      <td>228.0</td>\n",
       "      <td>92</td>\n",
       "      <td>37.0</td>\n",
       "      <td>6.2</td>\n",
       "      <td>4.64</td>\n",
       "      <td>58</td>\n",
       "      <td>61.0</td>\n",
       "      <td>256.0</td>\n",
       "      <td>190.0</td>\n",
       "      <td>92.0</td>\n",
       "      <td>0</td>\n",
       "      <td>0</td>\n",
       "      <td>0</td>\n",
       "    </tr>\n",
       "    <tr>\n",
       "      <th>3</th>\n",
       "      <td>78.0</td>\n",
       "      <td>93</td>\n",
       "      <td>12.0</td>\n",
       "      <td>6.5</td>\n",
       "      <td>4.63</td>\n",
       "      <td>67</td>\n",
       "      <td>67.0</td>\n",
       "      <td>119.0</td>\n",
       "      <td>110.0</td>\n",
       "      <td>50.0</td>\n",
       "      <td>0</td>\n",
       "      <td>1</td>\n",
       "      <td>0</td>\n",
       "    </tr>\n",
       "    <tr>\n",
       "      <th>4</th>\n",
       "      <td>249.0</td>\n",
       "      <td>90</td>\n",
       "      <td>28.0</td>\n",
       "      <td>8.9</td>\n",
       "      <td>7.72</td>\n",
       "      <td>64</td>\n",
       "      <td>68.0</td>\n",
       "      <td>183.0</td>\n",
       "      <td>138.0</td>\n",
       "      <td>80.0</td>\n",
       "      <td>0</td>\n",
       "      <td>1</td>\n",
       "      <td>1</td>\n",
       "    </tr>\n",
       "  </tbody>\n",
       "</table>\n",
       "</div>"
      ],
      "text/plain": [
       "    chol  stab.glu   hdl  ratio  glyhb  age  height  weight  bp.1s  bp.1d  \\\n",
       "0  203.0        82  56.0    3.6   4.31   46    62.0   121.0  118.0   59.0   \n",
       "1  165.0        97  24.0    6.9   4.44   29    64.0   218.0  112.0   68.0   \n",
       "2  228.0        92  37.0    6.2   4.64   58    61.0   256.0  190.0   92.0   \n",
       "3   78.0        93  12.0    6.5   4.63   67    67.0   119.0  110.0   50.0   \n",
       "4  249.0        90  28.0    8.9   7.72   64    68.0   183.0  138.0   80.0   \n",
       "\n",
       "   location_Louisa  gender_male  diabetes  \n",
       "0                0            0         0  \n",
       "1                0            0         0  \n",
       "2                0            0         0  \n",
       "3                0            1         0  \n",
       "4                0            1         1  "
      ]
     },
     "execution_count": 23,
     "metadata": {},
     "output_type": "execute_result"
    }
   ],
   "source": [
    "df.head()"
   ]
  },
  {
   "cell_type": "code",
   "execution_count": null,
   "metadata": {},
   "outputs": [],
   "source": []
  },
  {
   "cell_type": "code",
   "execution_count": 24,
   "metadata": {},
   "outputs": [],
   "source": [
    "# Define X and y\n",
    "X = df.drop(['glyhb','diabetes'], axis=1)\n",
    "y = df['diabetes']"
   ]
  },
  {
   "cell_type": "code",
   "execution_count": 25,
   "metadata": {},
   "outputs": [
    {
     "name": "stdout",
     "output_type": "stream",
     "text": [
      "(256, 11) (256,)\n",
      "(127, 11) (127,)\n",
      "0    109\n",
      "1     18\n",
      "Name: diabetes, dtype: int64\n"
     ]
    }
   ],
   "source": [
    "# Train-test split the data and stratify on y labels\n",
    "X_train, X_test, y_train, y_test = train_test_split(X, y, test_size=0.33, random_state= 123)\n",
    "print(X_train.shape, y_train.shape)\n",
    "print(X_test.shape, y_test.shape)\n",
    "print(y_test.value_counts())"
   ]
  },
  {
   "cell_type": "code",
   "execution_count": 26,
   "metadata": {},
   "outputs": [],
   "source": [
    "# Instantiate the LogisticRegression baseline model\n",
    "lr = LogisticRegression()"
   ]
  },
  {
   "cell_type": "code",
   "execution_count": 27,
   "metadata": {},
   "outputs": [
    {
     "data": {
      "text/plain": [
       "LogisticRegression(C=1.0, class_weight=None, dual=False, fit_intercept=True,\n",
       "          intercept_scaling=1, max_iter=100, multi_class='ovr', n_jobs=1,\n",
       "          penalty='l2', random_state=None, solver='liblinear', tol=0.0001,\n",
       "          verbose=0, warm_start=False)"
      ]
     },
     "execution_count": 27,
     "metadata": {},
     "output_type": "execute_result"
    }
   ],
   "source": [
    "# fit the model\n",
    "lr.fit(X_train,y_train)"
   ]
  },
  {
   "cell_type": "code",
   "execution_count": 28,
   "metadata": {},
   "outputs": [],
   "source": [
    "# predict raw lables and also the probabilities \n",
    "lr_pred = lr.predict(X_test)\n",
    "lr_pred_train = lr.predict(X_train)\n",
    "lr_proba =lr.predict_proba(X_test)[:,1]\n",
    "lr_proba_train = lr.predict_proba(X_train)[:,1]\n"
   ]
  },
  {
   "cell_type": "code",
   "execution_count": 29,
   "metadata": {},
   "outputs": [
    {
     "name": "stdout",
     "output_type": "stream",
     "text": [
      "[[104   5]\n",
      " [  5  13]]\n",
      "             precision    recall  f1-score   support\n",
      "\n",
      "          0       0.95      0.95      0.95       109\n",
      "          1       0.72      0.72      0.72        18\n",
      "\n",
      "avg / total       0.92      0.92      0.92       127\n",
      "\n",
      "Raw Accuracy on train:  0.921875\n",
      "Raw Accuracy on test:  0.9212598425196851\n",
      "ROC-AUC on train:  0.954622802041974\n",
      "ROC-AUC on test:  0.9026503567787972\n"
     ]
    }
   ],
   "source": [
    "# Check the performance to get some baseline result to work with\n",
    "print(confusion_matrix(y_test,lr_pred))\n",
    "print(classification_report(y_test,lr_pred))\n",
    "print('Raw Accuracy on train: ',accuracy_score(y_train,lr_pred_train))\n",
    "print('Raw Accuracy on test: ',accuracy_score(y_test,lr_pred))\n",
    "\n",
    "print('ROC-AUC on train: ', roc_auc_score(y_train,lr_proba_train))\n",
    "print('ROC-AUC on test: ', roc_auc_score(y_test,lr_proba))"
   ]
  },
  {
   "cell_type": "markdown",
   "metadata": {},
   "source": [
    "### Compare with Random Forest Classifier"
   ]
  },
  {
   "cell_type": "code",
   "execution_count": 30,
   "metadata": {},
   "outputs": [],
   "source": [
    "rf = RandomForestClassifier(max_depth=4, min_samples_split=3, n_estimators=500)"
   ]
  },
  {
   "cell_type": "code",
   "execution_count": 31,
   "metadata": {},
   "outputs": [
    {
     "data": {
      "text/plain": [
       "RandomForestClassifier(bootstrap=True, class_weight=None, criterion='gini',\n",
       "            max_depth=4, max_features='auto', max_leaf_nodes=None,\n",
       "            min_impurity_decrease=0.0, min_impurity_split=None,\n",
       "            min_samples_leaf=1, min_samples_split=3,\n",
       "            min_weight_fraction_leaf=0.0, n_estimators=500, n_jobs=1,\n",
       "            oob_score=False, random_state=None, verbose=0,\n",
       "            warm_start=False)"
      ]
     },
     "execution_count": 31,
     "metadata": {},
     "output_type": "execute_result"
    }
   ],
   "source": [
    "rf.fit(X_train,y_train)"
   ]
  },
  {
   "cell_type": "code",
   "execution_count": 32,
   "metadata": {},
   "outputs": [],
   "source": [
    "# predict raw lables and also the probabilities \n",
    "rf_pred = rf.predict(X_test)\n",
    "rf_pred_train = rf.predict(X_train)\n",
    "rf_proba =rf.predict_proba(X_test)[:,1]\n",
    "rf_proba_train = rf.predict_proba(X_train)[:,1]\n"
   ]
  },
  {
   "cell_type": "code",
   "execution_count": 33,
   "metadata": {},
   "outputs": [
    {
     "name": "stdout",
     "output_type": "stream",
     "text": [
      "[[105   4]\n",
      " [  5  13]]\n",
      "             precision    recall  f1-score   support\n",
      "\n",
      "          0       0.95      0.96      0.96       109\n",
      "          1       0.76      0.72      0.74        18\n",
      "\n",
      "avg / total       0.93      0.93      0.93       127\n",
      "\n",
      "Raw Accuracy on train:  0.95703125\n",
      "Raw Accuracy on test:  0.9291338582677166\n",
      "ROC-AUC on train:  0.9945547362450369\n",
      "ROC-AUC on test:  0.898572884811417\n"
     ]
    }
   ],
   "source": [
    "# Check the performance to get some baseline result to work with\n",
    "print(confusion_matrix(y_test,rf_pred))\n",
    "print(classification_report(y_test,rf_pred))\n",
    "print('Raw Accuracy on train: ',accuracy_score(y_train,rf_pred_train))\n",
    "print('Raw Accuracy on test: ',accuracy_score(y_test,rf_pred))\n",
    "\n",
    "print('ROC-AUC on train: ', roc_auc_score(y_train,rf_proba_train))\n",
    "print('ROC-AUC on test: ', roc_auc_score(y_test,rf_proba))"
   ]
  },
  {
   "cell_type": "code",
   "execution_count": 34,
   "metadata": {},
   "outputs": [
    {
     "data": {
      "image/png": "[encoded data removed]",
      "text/plain": [
       "<matplotlib.figure.Figure at 0x1a14cafc88>"
      ]
     },
     "metadata": {},
     "output_type": "display_data"
    },
    {
     "name": "stdout",
     "output_type": "stream",
     "text": [
      "location_Louisa    0.003321\n",
      "gender_male        0.003690\n",
      "height             0.022158\n",
      "bp.1d              0.033844\n",
      "weight             0.044423\n",
      "chol               0.047856\n",
      "bp.1s              0.072161\n",
      "hdl                0.075191\n",
      "ratio              0.084265\n",
      "age                0.102341\n",
      "stab.glu           0.510749\n",
      "dtype: float64\n"
     ]
    }
   ],
   "source": [
    "# Extract the feature importances from the rf_model\n",
    "importances = pd.Series(data=rf.feature_importances_,\n",
    "                        index= X_train.columns)\n",
    "\n",
    "# Sort the feature importances\n",
    "importances_sorted = importances.sort_values()\n",
    "\n",
    "# Plot the importances\n",
    "importances_sorted.plot(kind='barh', color='lightgreen')\n",
    "plt.title('Random Forest Features Importances')\n",
    "plt.show()\n",
    "print(importances_sorted)"
   ]
  },
  {
   "cell_type": "code",
   "execution_count": 35,
   "metadata": {},
   "outputs": [
    {
     "data": {
      "text/html": [
       "<div>\n",
       "<style scoped>\n",
       "    .dataframe tbody tr th:only-of-type {\n",
       "        vertical-align: middle;\n",
       "    }\n",
       "\n",
       "    .dataframe tbody tr th {\n",
       "        vertical-align: top;\n",
       "    }\n",
       "\n",
       "    .dataframe thead th {\n",
       "        text-align: right;\n",
       "    }\n",
       "</style>\n",
       "<table border=\"1\" class=\"dataframe\">\n",
       "  <thead>\n",
       "    <tr style=\"text-align: right;\">\n",
       "      <th></th>\n",
       "      <th>bp.1s</th>\n",
       "      <th>bp.1d</th>\n",
       "      <th>age</th>\n",
       "      <th>glyhb</th>\n",
       "    </tr>\n",
       "  </thead>\n",
       "  <tbody>\n",
       "    <tr>\n",
       "      <th>count</th>\n",
       "      <td>383.000000</td>\n",
       "      <td>383.000000</td>\n",
       "      <td>383.000000</td>\n",
       "      <td>383.000000</td>\n",
       "    </tr>\n",
       "    <tr>\n",
       "      <th>mean</th>\n",
       "      <td>137.224543</td>\n",
       "      <td>83.318538</td>\n",
       "      <td>46.838120</td>\n",
       "      <td>5.590862</td>\n",
       "    </tr>\n",
       "    <tr>\n",
       "      <th>std</th>\n",
       "      <td>23.032341</td>\n",
       "      <td>13.597923</td>\n",
       "      <td>16.549146</td>\n",
       "      <td>2.218075</td>\n",
       "    </tr>\n",
       "    <tr>\n",
       "      <th>min</th>\n",
       "      <td>90.000000</td>\n",
       "      <td>48.000000</td>\n",
       "      <td>19.000000</td>\n",
       "      <td>2.680000</td>\n",
       "    </tr>\n",
       "    <tr>\n",
       "      <th>25%</th>\n",
       "      <td>121.500000</td>\n",
       "      <td>75.000000</td>\n",
       "      <td>34.000000</td>\n",
       "      <td>4.390000</td>\n",
       "    </tr>\n",
       "    <tr>\n",
       "      <th>50%</th>\n",
       "      <td>136.000000</td>\n",
       "      <td>82.000000</td>\n",
       "      <td>45.000000</td>\n",
       "      <td>4.850000</td>\n",
       "    </tr>\n",
       "    <tr>\n",
       "      <th>75%</th>\n",
       "      <td>148.000000</td>\n",
       "      <td>91.000000</td>\n",
       "      <td>60.000000</td>\n",
       "      <td>5.615000</td>\n",
       "    </tr>\n",
       "    <tr>\n",
       "      <th>max</th>\n",
       "      <td>250.000000</td>\n",
       "      <td>124.000000</td>\n",
       "      <td>92.000000</td>\n",
       "      <td>16.110001</td>\n",
       "    </tr>\n",
       "  </tbody>\n",
       "</table>\n",
       "</div>"
      ],
      "text/plain": [
       "            bp.1s       bp.1d         age       glyhb\n",
       "count  383.000000  383.000000  383.000000  383.000000\n",
       "mean   137.224543   83.318538   46.838120    5.590862\n",
       "std     23.032341   13.597923   16.549146    2.218075\n",
       "min     90.000000   48.000000   19.000000    2.680000\n",
       "25%    121.500000   75.000000   34.000000    4.390000\n",
       "50%    136.000000   82.000000   45.000000    4.850000\n",
       "75%    148.000000   91.000000   60.000000    5.615000\n",
       "max    250.000000  124.000000   92.000000   16.110001"
      ]
     },
     "execution_count": 35,
     "metadata": {},
     "output_type": "execute_result"
    }
   ],
   "source": [
    "df[['bp.1s','bp.1d','age','glyhb']].describe()"
   ]
  },
  {
   "cell_type": "markdown",
   "metadata": {},
   "source": [
    "The features bp.1s and bp.1d are respectively the systolic and diasystolic blood pressures measured in mmHg. The normal range for healty individuals is 120/80 or also known as \"120 over 80 BP\". If either the numerator or denominator values are higher than these two values respectively, then that person is usually diagnosed with \"High BP\". A new feature can be engineered from these two features which essentialy indicate if a person has high/low BP. "
   ]
  },
  {
   "cell_type": "code",
   "execution_count": 36,
   "metadata": {},
   "outputs": [],
   "source": [
    "df.rename(columns={'bp.1s':'systolic','bp.1d':'diasystolic'}, inplace = True)\n",
    "def isBP_high(cols):\n",
    "    systolic = cols[0]\n",
    "    diasystolic = cols[1]\n",
    "    if systolic >= 130.0 and diasystolic > 80: # condition for Stage-1 Hypertension(High BP)\n",
    "        return 1\n",
    "    else:\n",
    "        return 0\n",
    "# Define a new binary feature for BP\n",
    "df['hypertension'] = df.rename(columns={'bp.1s':'systolic','bp.1d':'diasystolic'})[['systolic','diasystolic']].apply(isBP_high, axis=1)\n",
    "#df.drop(['systolic','diasystolic'], axis=1, inplace=True)"
   ]
  },
  {
   "cell_type": "code",
   "execution_count": 37,
   "metadata": {},
   "outputs": [
    {
     "data": {
      "text/html": [
       "<div>\n",
       "<style scoped>\n",
       "    .dataframe tbody tr th:only-of-type {\n",
       "        vertical-align: middle;\n",
       "    }\n",
       "\n",
       "    .dataframe tbody tr th {\n",
       "        vertical-align: top;\n",
       "    }\n",
       "\n",
       "    .dataframe thead th {\n",
       "        text-align: right;\n",
       "    }\n",
       "</style>\n",
       "<table border=\"1\" class=\"dataframe\">\n",
       "  <thead>\n",
       "    <tr style=\"text-align: right;\">\n",
       "      <th></th>\n",
       "      <th>chol</th>\n",
       "      <th>stab.glu</th>\n",
       "      <th>hdl</th>\n",
       "      <th>ratio</th>\n",
       "      <th>glyhb</th>\n",
       "      <th>age</th>\n",
       "      <th>height</th>\n",
       "      <th>weight</th>\n",
       "      <th>location_Louisa</th>\n",
       "      <th>gender_male</th>\n",
       "      <th>diabetes</th>\n",
       "      <th>hypertension</th>\n",
       "    </tr>\n",
       "  </thead>\n",
       "  <tbody>\n",
       "    <tr>\n",
       "      <th>0</th>\n",
       "      <td>203.0</td>\n",
       "      <td>82</td>\n",
       "      <td>56.0</td>\n",
       "      <td>3.6</td>\n",
       "      <td>4.31</td>\n",
       "      <td>46</td>\n",
       "      <td>62.0</td>\n",
       "      <td>121.0</td>\n",
       "      <td>0</td>\n",
       "      <td>0</td>\n",
       "      <td>0</td>\n",
       "      <td>0</td>\n",
       "    </tr>\n",
       "    <tr>\n",
       "      <th>1</th>\n",
       "      <td>165.0</td>\n",
       "      <td>97</td>\n",
       "      <td>24.0</td>\n",
       "      <td>6.9</td>\n",
       "      <td>4.44</td>\n",
       "      <td>29</td>\n",
       "      <td>64.0</td>\n",
       "      <td>218.0</td>\n",
       "      <td>0</td>\n",
       "      <td>0</td>\n",
       "      <td>0</td>\n",
       "      <td>0</td>\n",
       "    </tr>\n",
       "    <tr>\n",
       "      <th>2</th>\n",
       "      <td>228.0</td>\n",
       "      <td>92</td>\n",
       "      <td>37.0</td>\n",
       "      <td>6.2</td>\n",
       "      <td>4.64</td>\n",
       "      <td>58</td>\n",
       "      <td>61.0</td>\n",
       "      <td>256.0</td>\n",
       "      <td>0</td>\n",
       "      <td>0</td>\n",
       "      <td>0</td>\n",
       "      <td>1</td>\n",
       "    </tr>\n",
       "    <tr>\n",
       "      <th>3</th>\n",
       "      <td>78.0</td>\n",
       "      <td>93</td>\n",
       "      <td>12.0</td>\n",
       "      <td>6.5</td>\n",
       "      <td>4.63</td>\n",
       "      <td>67</td>\n",
       "      <td>67.0</td>\n",
       "      <td>119.0</td>\n",
       "      <td>0</td>\n",
       "      <td>1</td>\n",
       "      <td>0</td>\n",
       "      <td>0</td>\n",
       "    </tr>\n",
       "    <tr>\n",
       "      <th>4</th>\n",
       "      <td>249.0</td>\n",
       "      <td>90</td>\n",
       "      <td>28.0</td>\n",
       "      <td>8.9</td>\n",
       "      <td>7.72</td>\n",
       "      <td>64</td>\n",
       "      <td>68.0</td>\n",
       "      <td>183.0</td>\n",
       "      <td>0</td>\n",
       "      <td>1</td>\n",
       "      <td>1</td>\n",
       "      <td>0</td>\n",
       "    </tr>\n",
       "  </tbody>\n",
       "</table>\n",
       "</div>"
      ],
      "text/plain": [
       "    chol  stab.glu   hdl  ratio  glyhb  age  height  weight  location_Louisa  \\\n",
       "0  203.0        82  56.0    3.6   4.31   46    62.0   121.0                0   \n",
       "1  165.0        97  24.0    6.9   4.44   29    64.0   218.0                0   \n",
       "2  228.0        92  37.0    6.2   4.64   58    61.0   256.0                0   \n",
       "3   78.0        93  12.0    6.5   4.63   67    67.0   119.0                0   \n",
       "4  249.0        90  28.0    8.9   7.72   64    68.0   183.0                0   \n",
       "\n",
       "   gender_male  diabetes  hypertension  \n",
       "0            0         0             0  \n",
       "1            0         0             0  \n",
       "2            0         0             1  \n",
       "3            1         0             0  \n",
       "4            1         1             0  "
      ]
     },
     "execution_count": 37,
     "metadata": {},
     "output_type": "execute_result"
    }
   ],
   "source": [
    "df.drop(['systolic','diasystolic'], axis=1, inplace=True) # Don't need bp.1s, bp.1d.\n",
    "df.head()"
   ]
  },
  {
   "cell_type": "code",
   "execution_count": 38,
   "metadata": {},
   "outputs": [
    {
     "data": {
      "text/plain": [
       "0    212\n",
       "1    171\n",
       "Name: hypertension, dtype: int64"
      ]
     },
     "execution_count": 38,
     "metadata": {},
     "output_type": "execute_result"
    }
   ],
   "source": [
    "df['hypertension'].value_counts()"
   ]
  },
  {
   "cell_type": "code",
   "execution_count": 39,
   "metadata": {},
   "outputs": [],
   "source": [
    "df['bmi'] = round((df['height']**2)/df['weight'],2)\n",
    "def is_obese(bmi):\n",
    "    if bmi > 29.9:\n",
    "        return 1\n",
    "    else:\n",
    "        return 0\n",
    "df['obese'] = df['bmi'].apply(is_obese)\n",
    "    "
   ]
  },
  {
   "cell_type": "code",
   "execution_count": 40,
   "metadata": {},
   "outputs": [
    {
     "data": {
      "text/html": [
       "<div>\n",
       "<style scoped>\n",
       "    .dataframe tbody tr th:only-of-type {\n",
       "        vertical-align: middle;\n",
       "    }\n",
       "\n",
       "    .dataframe tbody tr th {\n",
       "        vertical-align: top;\n",
       "    }\n",
       "\n",
       "    .dataframe thead th {\n",
       "        text-align: right;\n",
       "    }\n",
       "</style>\n",
       "<table border=\"1\" class=\"dataframe\">\n",
       "  <thead>\n",
       "    <tr style=\"text-align: right;\">\n",
       "      <th></th>\n",
       "      <th>chol</th>\n",
       "      <th>stab.glu</th>\n",
       "      <th>hdl</th>\n",
       "      <th>ratio</th>\n",
       "      <th>glyhb</th>\n",
       "      <th>age</th>\n",
       "      <th>height</th>\n",
       "      <th>weight</th>\n",
       "      <th>location_Louisa</th>\n",
       "      <th>gender_male</th>\n",
       "      <th>diabetes</th>\n",
       "      <th>hypertension</th>\n",
       "      <th>bmi</th>\n",
       "      <th>obese</th>\n",
       "    </tr>\n",
       "  </thead>\n",
       "  <tbody>\n",
       "    <tr>\n",
       "      <th>0</th>\n",
       "      <td>203.0</td>\n",
       "      <td>82</td>\n",
       "      <td>56.0</td>\n",
       "      <td>3.6</td>\n",
       "      <td>4.31</td>\n",
       "      <td>46</td>\n",
       "      <td>62.0</td>\n",
       "      <td>121.0</td>\n",
       "      <td>0</td>\n",
       "      <td>0</td>\n",
       "      <td>0</td>\n",
       "      <td>0</td>\n",
       "      <td>31.77</td>\n",
       "      <td>1</td>\n",
       "    </tr>\n",
       "    <tr>\n",
       "      <th>1</th>\n",
       "      <td>165.0</td>\n",
       "      <td>97</td>\n",
       "      <td>24.0</td>\n",
       "      <td>6.9</td>\n",
       "      <td>4.44</td>\n",
       "      <td>29</td>\n",
       "      <td>64.0</td>\n",
       "      <td>218.0</td>\n",
       "      <td>0</td>\n",
       "      <td>0</td>\n",
       "      <td>0</td>\n",
       "      <td>0</td>\n",
       "      <td>18.79</td>\n",
       "      <td>0</td>\n",
       "    </tr>\n",
       "    <tr>\n",
       "      <th>2</th>\n",
       "      <td>228.0</td>\n",
       "      <td>92</td>\n",
       "      <td>37.0</td>\n",
       "      <td>6.2</td>\n",
       "      <td>4.64</td>\n",
       "      <td>58</td>\n",
       "      <td>61.0</td>\n",
       "      <td>256.0</td>\n",
       "      <td>0</td>\n",
       "      <td>0</td>\n",
       "      <td>0</td>\n",
       "      <td>1</td>\n",
       "      <td>14.54</td>\n",
       "      <td>0</td>\n",
       "    </tr>\n",
       "    <tr>\n",
       "      <th>3</th>\n",
       "      <td>78.0</td>\n",
       "      <td>93</td>\n",
       "      <td>12.0</td>\n",
       "      <td>6.5</td>\n",
       "      <td>4.63</td>\n",
       "      <td>67</td>\n",
       "      <td>67.0</td>\n",
       "      <td>119.0</td>\n",
       "      <td>0</td>\n",
       "      <td>1</td>\n",
       "      <td>0</td>\n",
       "      <td>0</td>\n",
       "      <td>37.72</td>\n",
       "      <td>1</td>\n",
       "    </tr>\n",
       "    <tr>\n",
       "      <th>4</th>\n",
       "      <td>249.0</td>\n",
       "      <td>90</td>\n",
       "      <td>28.0</td>\n",
       "      <td>8.9</td>\n",
       "      <td>7.72</td>\n",
       "      <td>64</td>\n",
       "      <td>68.0</td>\n",
       "      <td>183.0</td>\n",
       "      <td>0</td>\n",
       "      <td>1</td>\n",
       "      <td>1</td>\n",
       "      <td>0</td>\n",
       "      <td>25.27</td>\n",
       "      <td>0</td>\n",
       "    </tr>\n",
       "  </tbody>\n",
       "</table>\n",
       "</div>"
      ],
      "text/plain": [
       "    chol  stab.glu   hdl  ratio  glyhb  age  height  weight  location_Louisa  \\\n",
       "0  203.0        82  56.0    3.6   4.31   46    62.0   121.0                0   \n",
       "1  165.0        97  24.0    6.9   4.44   29    64.0   218.0                0   \n",
       "2  228.0        92  37.0    6.2   4.64   58    61.0   256.0                0   \n",
       "3   78.0        93  12.0    6.5   4.63   67    67.0   119.0                0   \n",
       "4  249.0        90  28.0    8.9   7.72   64    68.0   183.0                0   \n",
       "\n",
       "   gender_male  diabetes  hypertension    bmi  obese  \n",
       "0            0         0             0  31.77      1  \n",
       "1            0         0             0  18.79      0  \n",
       "2            0         0             1  14.54      0  \n",
       "3            1         0             0  37.72      1  \n",
       "4            1         1             0  25.27      0  "
      ]
     },
     "execution_count": 40,
     "metadata": {},
     "output_type": "execute_result"
    }
   ],
   "source": [
    "df.head()"
   ]
  },
  {
   "cell_type": "code",
   "execution_count": 41,
   "metadata": {},
   "outputs": [
    {
     "data": {
      "text/plain": [
       "0    298\n",
       "1     85\n",
       "Name: obese, dtype: int64"
      ]
     },
     "execution_count": 41,
     "metadata": {},
     "output_type": "execute_result"
    }
   ],
   "source": [
    "df['obese'].value_counts()"
   ]
  },
  {
   "cell_type": "code",
   "execution_count": 42,
   "metadata": {},
   "outputs": [
    {
     "data": {
      "text/plain": [
       "array(['chol', 'stab.glu', 'hdl', 'ratio', 'glyhb', 'age', 'height',\n",
       "       'weight', 'location_Louisa', 'gender_male', 'diabetes',\n",
       "       'hypertension', 'bmi', 'obese'], dtype=object)"
      ]
     },
     "execution_count": 42,
     "metadata": {},
     "output_type": "execute_result"
    }
   ],
   "source": [
    "df.columns.values"
   ]
  },
  {
   "cell_type": "code",
   "execution_count": 43,
   "metadata": {},
   "outputs": [],
   "source": [
    "X = df.drop(['glyhb','diabetes','height','weight','bmi'], axis=1)\n",
    "y = df['diabetes']\n",
    "X_train, X_test, y_train, y_test = train_test_split(X, y, test_size=0.33, random_state= 123)\n"
   ]
  },
  {
   "cell_type": "code",
   "execution_count": 44,
   "metadata": {},
   "outputs": [
    {
     "data": {
      "text/plain": [
       "LogisticRegression(C=1.0, class_weight=None, dual=False, fit_intercept=True,\n",
       "          intercept_scaling=1, max_iter=100, multi_class='ovr', n_jobs=1,\n",
       "          penalty='l2', random_state=None, solver='liblinear', tol=0.0001,\n",
       "          verbose=0, warm_start=False)"
      ]
     },
     "execution_count": 44,
     "metadata": {},
     "output_type": "execute_result"
    }
   ],
   "source": [
    "lr = LogisticRegression()\n",
    "lr.fit(X_train,y_train)"
   ]
  },
  {
   "cell_type": "code",
   "execution_count": 45,
   "metadata": {},
   "outputs": [],
   "source": [
    "# predict raw lables and also the probabilities \n",
    "lr_pred = lr.predict(X_test)\n",
    "lr_pred_train = lr.predict(X_train)\n",
    "lr_proba =lr.predict_proba(X_test)[:,1]\n",
    "lr_proba_train = lr.predict_proba(X_train)[:,1]\n"
   ]
  },
  {
   "cell_type": "code",
   "execution_count": 46,
   "metadata": {},
   "outputs": [
    {
     "name": "stdout",
     "output_type": "stream",
     "text": [
      "[[105   4]\n",
      " [  6  12]]\n",
      "             precision    recall  f1-score   support\n",
      "\n",
      "          0       0.95      0.96      0.95       109\n",
      "          1       0.75      0.67      0.71        18\n",
      "\n",
      "avg / total       0.92      0.92      0.92       127\n",
      "\n",
      "Raw Accuracy on train:  0.9140625\n",
      "Raw Accuracy on test:  0.9212598425196851\n",
      "ROC-AUC on train:  0.9334089619965967\n",
      "ROC-AUC on test:  0.8873598369011213\n"
     ]
    }
   ],
   "source": [
    "# Check the performance to get some baseline result to work with\n",
    "print(confusion_matrix(y_test,lr_pred))\n",
    "print(classification_report(y_test,lr_pred))\n",
    "print('Raw Accuracy on train: ',accuracy_score(y_train,lr_pred_train))\n",
    "print('Raw Accuracy on test: ',accuracy_score(y_test,lr_pred))\n",
    "\n",
    "print('ROC-AUC on train: ', roc_auc_score(y_train,lr_proba_train))\n",
    "print('ROC-AUC on test: ', roc_auc_score(y_test,lr_proba))"
   ]
  },
  {
   "cell_type": "code",
   "execution_count": 47,
   "metadata": {},
   "outputs": [
    {
     "data": {
      "text/plain": [
       "RandomForestClassifier(bootstrap=True, class_weight=None, criterion='gini',\n",
       "            max_depth=4, max_features='auto', max_leaf_nodes=None,\n",
       "            min_impurity_decrease=0.0, min_impurity_split=None,\n",
       "            min_samples_leaf=1, min_samples_split=3,\n",
       "            min_weight_fraction_leaf=0.0, n_estimators=500, n_jobs=1,\n",
       "            oob_score=False, random_state=None, verbose=0,\n",
       "            warm_start=False)"
      ]
     },
     "execution_count": 47,
     "metadata": {},
     "output_type": "execute_result"
    }
   ],
   "source": [
    "rf.fit(X_train,y_train)"
   ]
  },
  {
   "cell_type": "code",
   "execution_count": 48,
   "metadata": {},
   "outputs": [],
   "source": [
    "rf_pred = rf.predict(X_test)\n",
    "rf_pred_train = rf.predict(X_train)\n",
    "rf_proba =rf.predict_proba(X_test)[:,1]\n",
    "rf_proba_train = rf.predict_proba(X_train)[:,1]\n"
   ]
  },
  {
   "cell_type": "code",
   "execution_count": 49,
   "metadata": {},
   "outputs": [
    {
     "name": "stdout",
     "output_type": "stream",
     "text": [
      "[[105   4]\n",
      " [  5  13]]\n",
      "             precision    recall  f1-score   support\n",
      "\n",
      "          0       0.95      0.96      0.96       109\n",
      "          1       0.76      0.72      0.74        18\n",
      "\n",
      "avg / total       0.93      0.93      0.93       127\n",
      "\n",
      "Raw Accuracy on train:  0.9453125\n",
      "Raw Accuracy on test:  0.9291338582677166\n",
      "ROC-AUC on train:  0.9927396483267158\n",
      "ROC-AUC on test:  0.9148827726809379\n"
     ]
    }
   ],
   "source": [
    "# Check the performance to get some baseline result to work with\n",
    "print(confusion_matrix(y_test,rf_pred))\n",
    "print(classification_report(y_test,rf_pred))\n",
    "print('Raw Accuracy on train: ',accuracy_score(y_train,rf_pred_train))\n",
    "print('Raw Accuracy on test: ',accuracy_score(y_test,rf_pred))\n",
    "\n",
    "print('ROC-AUC on train: ', roc_auc_score(y_train,rf_proba_train))\n",
    "print('ROC-AUC on test: ', roc_auc_score(y_test,rf_proba))"
   ]
  },
  {
   "cell_type": "code",
   "execution_count": 50,
   "metadata": {},
   "outputs": [
    {
     "data": {
      "image/png": "[encoded data removed]",
      "text/plain": [
       "<matplotlib.figure.Figure at 0x1a0ae8fa90>"
      ]
     },
     "metadata": {},
     "output_type": "display_data"
    },
    {
     "name": "stdout",
     "output_type": "stream",
     "text": [
      "location_Louisa    0.003696\n",
      "gender_male        0.006875\n",
      "hypertension       0.016822\n",
      "obese              0.016954\n",
      "chol               0.067176\n",
      "hdl                0.085868\n",
      "ratio              0.109302\n",
      "age                0.131163\n",
      "stab.glu           0.562145\n",
      "dtype: float64\n"
     ]
    }
   ],
   "source": [
    "# Extract the feature importances from the rf_model\n",
    "importances = pd.Series(data=rf.feature_importances_,\n",
    "                        index= X_train.columns)\n",
    "\n",
    "# Sort the feature importances\n",
    "importances_sorted = importances.sort_values()\n",
    "\n",
    "# Plot the importances\n",
    "importances_sorted.plot(kind='barh', color='lightgreen')\n",
    "plt.title('Random Forest Features Importances')\n",
    "plt.show()\n",
    "print(importances_sorted)"
   ]
  },
  {
   "cell_type": "code",
   "execution_count": 51,
   "metadata": {},
   "outputs": [
    {
     "data": {
      "text/plain": [
       "<matplotlib.axes._subplots.AxesSubplot at 0x1a14bcc048>"
      ]
     },
     "execution_count": 51,
     "metadata": {},
     "output_type": "execute_result"
    },
    {
     "data": {
      "image/png": "[encoded data removed]",
      "text/plain": [
       "<matplotlib.figure.Figure at 0x102c29dd8>"
      ]
     },
     "metadata": {},
     "output_type": "display_data"
    }
   ],
   "source": [
    "sns.violinplot(x = 'diabetes', y = 'bmi', data=df)"
   ]
  },
  {
   "cell_type": "code",
   "execution_count": 52,
   "metadata": {},
   "outputs": [
    {
     "data": {
      "text/plain": [
       "<matplotlib.axes._subplots.AxesSubplot at 0x1a140a9898>"
      ]
     },
     "execution_count": 52,
     "metadata": {},
     "output_type": "execute_result"
    },
    {
     "data": {
      "image/png": "[encoded data removed]",
      "text/plain": [
       "<matplotlib.figure.Figure at 0x1a142bb320>"
      ]
     },
     "metadata": {},
     "output_type": "display_data"
    }
   ],
   "source": [
    "sns.violinplot(x = 'hypertension', y = 'glyhb', data=df)"
   ]
  },
  {
   "cell_type": "code",
   "execution_count": 53,
   "metadata": {},
   "outputs": [],
   "source": [
    "# First define a function to compute the ROC-AUC score metric\n",
    "def auc(variables, target, basetable):\n",
    "    X = basetable[variables]\n",
    "    Y = basetable[target]\n",
    "    \n",
    "    logreg = LogisticRegression()\n",
    "    logreg.fit(X, Y)\n",
    "    \n",
    "    predictions = logreg.predict_proba(X)[:,1]\n",
    "    auc = roc_auc_score(Y, predictions)\n",
    "    return(auc)\n",
    "        \n",
    "    \n",
    "# Second compute the next best feature which would give a higher AUC score\n",
    "\n",
    "def next_best(current_variables,candidate_variables, target, basetable):\n",
    "    best_auc = -1\n",
    "    best_variable = None\n",
    "    for v in candidate_variables:\n",
    "        auc_v = auc(current_variables + [v], target, basetable)\n",
    "        if auc_v > best_auc:\n",
    "            best_auc = auc_v\n",
    "            best_variable = v\n",
    "    return best_variable\n",
    "\n"
   ]
  },
  {
   "cell_type": "code",
   "execution_count": 54,
   "metadata": {},
   "outputs": [
    {
     "name": "stdout",
     "output_type": "stream",
     "text": [
      "['chol', 'stab.glu', 'hdl', 'ratio', 'age', 'location_Louisa', 'gender_male', 'hypertension', 'obese']\n"
     ]
    }
   ],
   "source": [
    "target = ['diabetes']\n",
    "candidate_variables = list(X.columns.values)\n",
    "\n",
    "#candidate_variables.remove('stab.glu')\n",
    "print(candidate_variables)"
   ]
  },
  {
   "cell_type": "code",
   "execution_count": 55,
   "metadata": {},
   "outputs": [
    {
     "name": "stdout",
     "output_type": "stream",
     "text": [
      "['stab.glu', 'obese', 'age', 'hypertension', 'ratio', 'gender_male', 'location_Louisa', 'chol']\n"
     ]
    },
    {
     "name": "stderr",
     "output_type": "stream",
     "text": [
      "/anaconda3/lib/python3.6/site-packages/sklearn/utils/validation.py:578: DataConversionWarning: A column-vector y was passed when a 1d array was expected. Please change the shape of y to (n_samples, ), for example using ravel().\n",
      "  y = column_or_1d(y, warn=True)\n"
     ]
    }
   ],
   "source": [
    "current_variables = []\n",
    "max_number_variables = 8\n",
    "number_iterations = min(max_number_variables, len(candidate_variables))\n",
    "for i in range(0,number_iterations):\n",
    "    next_variable = next_best(current_variables,candidate_variables,target,df)\n",
    "    current_variables = current_variables + [next_variable]\n",
    "    candidate_variables.remove(next_variable)\n",
    "print(current_variables)"
   ]
  },
  {
   "cell_type": "code",
   "execution_count": 56,
   "metadata": {},
   "outputs": [],
   "source": [
    "def auc_train_test(feature,target,train,test):\n",
    "    X_train = train[feature]\n",
    "    X_test = test[feature]\n",
    "    Y_train = train[target]\n",
    "    Y_test = test[target]\n",
    "    \n",
    "    lr = LogisticRegression()\n",
    "    lr.fit(X_train,Y_train)\n",
    "    \n",
    "    pred_train = lr.predict_proba(X_train)[:,1]\n",
    "    pred_test = lr.predict_proba(X_test)[:,1] \n",
    "    \n",
    "    auc_train = roc_auc_score(Y_train, pred_train)\n",
    "    auc_test = roc_auc_score(Y_test, pred_test)\n",
    "   \n",
    "    return(auc_train, auc_test)"
   ]
  },
  {
   "cell_type": "code",
   "execution_count": 57,
   "metadata": {},
   "outputs": [
    {
     "data": {
      "text/html": [
       "<div>\n",
       "<style scoped>\n",
       "    .dataframe tbody tr th:only-of-type {\n",
       "        vertical-align: middle;\n",
       "    }\n",
       "\n",
       "    .dataframe tbody tr th {\n",
       "        vertical-align: top;\n",
       "    }\n",
       "\n",
       "    .dataframe thead th {\n",
       "        text-align: right;\n",
       "    }\n",
       "</style>\n",
       "<table border=\"1\" class=\"dataframe\">\n",
       "  <thead>\n",
       "    <tr style=\"text-align: right;\">\n",
       "      <th></th>\n",
       "      <th>chol</th>\n",
       "      <th>stab.glu</th>\n",
       "      <th>hdl</th>\n",
       "      <th>ratio</th>\n",
       "      <th>age</th>\n",
       "      <th>location_Louisa</th>\n",
       "      <th>gender_male</th>\n",
       "      <th>hypertension</th>\n",
       "      <th>obese</th>\n",
       "      <th>diabetes</th>\n",
       "    </tr>\n",
       "  </thead>\n",
       "  <tbody>\n",
       "    <tr>\n",
       "      <th>337</th>\n",
       "      <td>261.0</td>\n",
       "      <td>101</td>\n",
       "      <td>83.0</td>\n",
       "      <td>3.1</td>\n",
       "      <td>52</td>\n",
       "      <td>1</td>\n",
       "      <td>0</td>\n",
       "      <td>1</td>\n",
       "      <td>0</td>\n",
       "      <td>0</td>\n",
       "    </tr>\n",
       "    <tr>\n",
       "      <th>25</th>\n",
       "      <td>179.0</td>\n",
       "      <td>80</td>\n",
       "      <td>92.0</td>\n",
       "      <td>1.9</td>\n",
       "      <td>41</td>\n",
       "      <td>0</td>\n",
       "      <td>0</td>\n",
       "      <td>1</td>\n",
       "      <td>1</td>\n",
       "      <td>0</td>\n",
       "    </tr>\n",
       "    <tr>\n",
       "      <th>209</th>\n",
       "      <td>211.0</td>\n",
       "      <td>225</td>\n",
       "      <td>29.0</td>\n",
       "      <td>7.3</td>\n",
       "      <td>61</td>\n",
       "      <td>0</td>\n",
       "      <td>0</td>\n",
       "      <td>1</td>\n",
       "      <td>0</td>\n",
       "      <td>1</td>\n",
       "    </tr>\n",
       "    <tr>\n",
       "      <th>391</th>\n",
       "      <td>221.0</td>\n",
       "      <td>126</td>\n",
       "      <td>48.0</td>\n",
       "      <td>4.6</td>\n",
       "      <td>59</td>\n",
       "      <td>1</td>\n",
       "      <td>0</td>\n",
       "      <td>0</td>\n",
       "      <td>0</td>\n",
       "      <td>0</td>\n",
       "    </tr>\n",
       "    <tr>\n",
       "      <th>256</th>\n",
       "      <td>235.0</td>\n",
       "      <td>109</td>\n",
       "      <td>59.0</td>\n",
       "      <td>4.0</td>\n",
       "      <td>62</td>\n",
       "      <td>0</td>\n",
       "      <td>0</td>\n",
       "      <td>0</td>\n",
       "      <td>0</td>\n",
       "      <td>1</td>\n",
       "    </tr>\n",
       "  </tbody>\n",
       "</table>\n",
       "</div>"
      ],
      "text/plain": [
       "      chol  stab.glu   hdl  ratio  age  location_Louisa  gender_male  \\\n",
       "337  261.0       101  83.0    3.1   52                1            0   \n",
       "25   179.0        80  92.0    1.9   41                0            0   \n",
       "209  211.0       225  29.0    7.3   61                0            0   \n",
       "391  221.0       126  48.0    4.6   59                1            0   \n",
       "256  235.0       109  59.0    4.0   62                0            0   \n",
       "\n",
       "     hypertension  obese  diabetes  \n",
       "337             1      0         0  \n",
       "25              1      1         0  \n",
       "209             1      0         1  \n",
       "391             0      0         0  \n",
       "256             0      0         1  "
      ]
     },
     "execution_count": 57,
     "metadata": {},
     "output_type": "execute_result"
    }
   ],
   "source": [
    "# Carry out 60-40 partititioning with stratification\n",
    "X_train, X_test, Y_train, Y_test = train_test_split(X,y,test_size= 0.5, random_state= 123)\n",
    "\n",
    "train = pd.concat([X_train, Y_train], axis=1)\n",
    "test = pd.concat([X_test, Y_test], axis=1)\n",
    "train.head()"
   ]
  },
  {
   "cell_type": "code",
   "execution_count": 58,
   "metadata": {},
   "outputs": [
    {
     "name": "stdout",
     "output_type": "stream",
     "text": [
      "['stab.glu', 'obese', 'age', 'hypertension', 'ratio', 'gender_male', 'location_Louisa', 'chol']\n"
     ]
    }
   ],
   "source": [
    "print(current_variables)"
   ]
  },
  {
   "cell_type": "code",
   "execution_count": 59,
   "metadata": {},
   "outputs": [
    {
     "name": "stderr",
     "output_type": "stream",
     "text": [
      "/anaconda3/lib/python3.6/site-packages/sklearn/utils/validation.py:578: DataConversionWarning: A column-vector y was passed when a 1d array was expected. Please change the shape of y to (n_samples, ), for example using ravel().\n",
      "  y = column_or_1d(y, warn=True)\n"
     ]
    },
    {
     "data": {
      "image/png": "[encoded data removed]",
      "text/plain": [
       "<matplotlib.figure.Figure at 0x1a14ea2978>"
      ]
     },
     "metadata": {},
     "output_type": "display_data"
    },
    {
     "data": {
      "text/plain": [
       "<matplotlib.figure.Figure at 0x1a14f316d8>"
      ]
     },
     "metadata": {},
     "output_type": "display_data"
    }
   ],
   "source": [
    "variables = current_variables\n",
    "# Keep track of train and test AUC values\n",
    "auc_values_train = []\n",
    "auc_values_test = []\n",
    "\n",
    "# Add variables one by one\n",
    "variables_evaluate = []\n",
    "\n",
    "# Iterate over the variables in variables\n",
    "for v in variables:\n",
    "    # Add the variable\n",
    "    variables_evaluate.append(v)\n",
    "    # Calculate the train and test AUC of this set of variables\n",
    "    auc_train, auc_test = auc_train_test(variables_evaluate,['diabetes'],train,test)\n",
    "    # Append the values to the lists\n",
    "    auc_values_train.append(auc_train)\n",
    "    auc_values_test.append(auc_test)\n",
    "    \n",
    "x = np.array(range(0,len(auc_values_train)))\n",
    "y_train = np.array(auc_values_train)\n",
    "y_test = np.array(auc_values_test)\n",
    "\n",
    "fig=plt.figure(figsize=(8, 5), dpi= 80, facecolor='w', edgecolor='k')\n",
    "\n",
    "plt.xticks(x, variables, rotation = 90)\n",
    "plt.plot(x,y_train, color='blue', label = 'train')\n",
    "plt.plot(x,y_test, color='orange', label='test')\n",
    "plt.ylim((0.7, 0.99))\n",
    "plt.legend(loc=5)\n",
    "plt.figure(figsize=(18,16))\n",
    "plt.show()"
   ]
  },
  {
   "cell_type": "code",
   "execution_count": 60,
   "metadata": {},
   "outputs": [],
   "source": [
    "X = df[['stab.glu', 'obese', 'age']]\n",
    "y = df.diabetes\n",
    "X_train, X_test, y_train, y_test = train_test_split(X, y, test_size=0.40, random_state= 123)\n"
   ]
  },
  {
   "cell_type": "code",
   "execution_count": 61,
   "metadata": {},
   "outputs": [
    {
     "data": {
      "text/plain": [
       "LogisticRegression(C=1.0, class_weight=None, dual=False, fit_intercept=True,\n",
       "          intercept_scaling=1, max_iter=100, multi_class='ovr', n_jobs=1,\n",
       "          penalty='l2', random_state=None, solver='liblinear', tol=0.0001,\n",
       "          verbose=0, warm_start=False)"
      ]
     },
     "execution_count": 61,
     "metadata": {},
     "output_type": "execute_result"
    }
   ],
   "source": [
    "lr = LogisticRegression()\n",
    "lr.fit(X_train,y_train)"
   ]
  },
  {
   "cell_type": "code",
   "execution_count": 62,
   "metadata": {},
   "outputs": [],
   "source": [
    "# predict raw lables and also the probabilities \n",
    "lr_pred = lr.predict(X_test)\n",
    "lr_pred_train = lr.predict(X_train)\n",
    "lr_proba =lr.predict_proba(X_test)[:,1]\n",
    "lr_proba_train = lr.predict_proba(X_train)[:,1]\n"
   ]
  },
  {
   "cell_type": "code",
   "execution_count": 63,
   "metadata": {},
   "outputs": [
    {
     "name": "stdout",
     "output_type": "stream",
     "text": [
      "[[127   4]\n",
      " [  8  15]]\n",
      "             precision    recall  f1-score   support\n",
      "\n",
      "          0       0.94      0.97      0.95       131\n",
      "          1       0.79      0.65      0.71        23\n",
      "\n",
      "avg / total       0.92      0.92      0.92       154\n",
      "\n",
      "Raw Accuracy on train:  0.9213973799126638\n",
      "Raw Accuracy on test:  0.922077922077922\n",
      "ROC-AUC on train:  0.9548071387449626\n",
      "ROC-AUC on test:  0.9133753733820111\n"
     ]
    }
   ],
   "source": [
    "# Check the performance to get some baseline result to work with\n",
    "print(confusion_matrix(y_test,lr_pred))\n",
    "print(classification_report(y_test,lr_pred))\n",
    "print('Raw Accuracy on train: ',accuracy_score(y_train,lr_pred_train))\n",
    "print('Raw Accuracy on test: ',accuracy_score(y_test,lr_pred))\n",
    "\n",
    "print('ROC-AUC on train: ', roc_auc_score(y_train,lr_proba_train))\n",
    "print('ROC-AUC on test: ', roc_auc_score(y_test,lr_proba))"
   ]
  },
  {
   "cell_type": "code",
   "execution_count": null,
   "metadata": {},
   "outputs": [],
   "source": []
  },
  {
   "cell_type": "code",
   "execution_count": 64,
   "metadata": {},
   "outputs": [],
   "source": [
    "params = {'C': [0.0001, 0.001, 0.01, 0.1, 1, 10, 100, 1000], \n",
    "          'penalty': ['l1','l2']\n",
    "          }\n",
    "base = LogisticRegression()\n",
    "clf = GridSearchCV(base,param_grid=params, cv=10, verbose=0)"
   ]
  },
  {
   "cell_type": "code",
   "execution_count": 65,
   "metadata": {},
   "outputs": [
    {
     "data": {
      "text/plain": [
       "{'C': 1, 'penalty': 'l1'}"
      ]
     },
     "execution_count": 65,
     "metadata": {},
     "output_type": "execute_result"
    }
   ],
   "source": [
    "clf.fit(X,y)\n",
    "# View best hyperparameters\n",
    "clf.best_params_"
   ]
  },
  {
   "cell_type": "code",
   "execution_count": 66,
   "metadata": {},
   "outputs": [
    {
     "data": {
      "text/plain": [
       "LogisticRegression(C=1, class_weight=None, dual=False, fit_intercept=True,\n",
       "          intercept_scaling=1, max_iter=100, multi_class='ovr', n_jobs=1,\n",
       "          penalty='l1', random_state=None, solver='liblinear', tol=0.0001,\n",
       "          verbose=0, warm_start=False)"
      ]
     },
     "execution_count": 66,
     "metadata": {},
     "output_type": "execute_result"
    }
   ],
   "source": [
    "clf.best_estimator_"
   ]
  },
  {
   "cell_type": "code",
   "execution_count": 67,
   "metadata": {},
   "outputs": [
    {
     "name": "stdout",
     "output_type": "stream",
     "text": [
      "[[127   4]\n",
      " [  8  15]]\n",
      "             precision    recall  f1-score   support\n",
      "\n",
      "          0       0.94      0.97      0.95       131\n",
      "          1       0.79      0.65      0.71        23\n",
      "\n",
      "avg / total       0.92      0.92      0.92       154\n",
      "\n",
      "Raw Accuracy on train:  0.925764192139738\n",
      "Raw Accuracy on test:  0.922077922077922\n",
      "ROC-AUC on train:  0.9548071387449626\n",
      "ROC-AUC on test:  0.9097245270494524\n"
     ]
    }
   ],
   "source": [
    "model = clf.best_estimator_\n",
    "model.fit(X_train,y_train)\n",
    "prediction_train = model.predict(X_train)\n",
    "prediction = model.predict(X_test)\n",
    "prediction_proba = model.predict_proba(X_test)[:,1]\n",
    "prediction_train_proba = lr.predict_proba(X_train)[:,1]\n",
    "\n",
    "print(confusion_matrix(y_test,prediction))\n",
    "print(classification_report(y_test,prediction))\n",
    "print('Raw Accuracy on train: ',accuracy_score(y_train,prediction_train))\n",
    "print('Raw Accuracy on test: ',accuracy_score(y_test,prediction))\n",
    "\n",
    "print('ROC-AUC on train: ', roc_auc_score(y_train,prediction_train_proba))\n",
    "print('ROC-AUC on test: ', roc_auc_score(y_test,prediction_proba))"
   ]
  },
  {
   "cell_type": "code",
   "execution_count": 68,
   "metadata": {},
   "outputs": [
    {
     "data": {
      "text/plain": [
       "RandomForestClassifier(bootstrap=True, class_weight=None, criterion='gini',\n",
       "            max_depth=4, max_features='auto', max_leaf_nodes=None,\n",
       "            min_impurity_decrease=0.0, min_impurity_split=None,\n",
       "            min_samples_leaf=1, min_samples_split=3,\n",
       "            min_weight_fraction_leaf=0.0, n_estimators=500, n_jobs=1,\n",
       "            oob_score=False, random_state=None, verbose=0,\n",
       "            warm_start=False)"
      ]
     },
     "execution_count": 68,
     "metadata": {},
     "output_type": "execute_result"
    }
   ],
   "source": [
    "rf.fit(X_train,y_train)\n"
   ]
  },
  {
   "cell_type": "code",
   "execution_count": 69,
   "metadata": {},
   "outputs": [],
   "source": [
    "rf_pred = rf.predict(X_test)\n",
    "rf_pred_train = rf.predict(X_train)\n",
    "rf_proba =rf.predict_proba(X_test)[:,1]\n",
    "rf_proba_train = rf.predict_proba(X_train)[:,1]\n"
   ]
  },
  {
   "cell_type": "code",
   "execution_count": 83,
   "metadata": {},
   "outputs": [
    {
     "name": "stdout",
     "output_type": "stream",
     "text": [
      "[[125   6]\n",
      " [  7  16]]\n",
      "             precision    recall  f1-score   support\n",
      "\n",
      "          0       0.95      0.95      0.95       131\n",
      "          1       0.73      0.70      0.71        23\n",
      "\n",
      "avg / total       0.91      0.92      0.91       154\n",
      "\n",
      "Raw Accuracy on train:  0.9475982532751092\n",
      "Raw Accuracy on test:  0.9155844155844156\n",
      "ROC-AUC on train:  0.989349453080023\n",
      "ROC-AUC on test:  0.904414205111185\n"
     ]
    }
   ],
   "source": [
    "# Check the performance to get some baseline result to work with\n",
    "print(confusion_matrix(y_test,rf_pred))\n",
    "print(classification_report(y_test,rf_pred))\n",
    "print('Raw Accuracy on train: ',accuracy_score(y_train,rf_pred_train))\n",
    "print('Raw Accuracy on test: ',accuracy_score(y_test,rf_pred))\n",
    "\n",
    "print('ROC-AUC on train: ', roc_auc_score(y_train,rf_proba_train))\n",
    "print('ROC-AUC on test: ', roc_auc_score(y_test,rf_proba))"
   ]
  },
  {
   "cell_type": "code",
   "execution_count": 81,
   "metadata": {},
   "outputs": [
    {
     "name": "stdout",
     "output_type": "stream",
     "text": [
      "mean roc-auc score: 0.958215 std.: 0.029331\n"
     ]
    }
   ],
   "source": [
    "results = cross_val_score(rf, X_train, y_train, cv=4, scoring='roc_auc')\n",
    "print('mean roc-auc score: %f' % results.mean(), 'std.: %f' % results.std())"
   ]
  },
  {
   "cell_type": "code",
   "execution_count": 82,
   "metadata": {},
   "outputs": [
    {
     "name": "stdout",
     "output_type": "stream",
     "text": [
      "[0.91156463 0.97685185 0.98842593 0.95601852]\n"
     ]
    }
   ],
   "source": [
    "print(results)"
   ]
  },
  {
   "cell_type": "code",
   "execution_count": 79,
   "metadata": {},
   "outputs": [
    {
     "name": "stdout",
     "output_type": "stream",
     "text": [
      "mean roc-auc score: 0.964546 std.: 0.026977\n"
     ]
    }
   ],
   "source": [
    "results = cross_val_score(clf, X_train, y_train, cv=4, scoring='roc_auc')\n",
    "print('mean roc-auc score: %f' % results.mean(), 'std.: %f' % results.std())"
   ]
  },
  {
   "cell_type": "code",
   "execution_count": 80,
   "metadata": {},
   "outputs": [
    {
     "name": "stdout",
     "output_type": "stream",
     "text": [
      "[0.91836735 0.97453704 0.97916667 0.98611111]\n"
     ]
    }
   ],
   "source": [
    "print(results)"
   ]
  },
  {
   "cell_type": "code",
   "execution_count": 75,
   "metadata": {},
   "outputs": [],
   "source": [
    "#mean_auc = [0,0]\n",
    "#mean_acc = [0,0]\n",
    "#for i in range(2,15):\n",
    "#    results1 = cross_val_score(clf, X, y, cv= i, scoring='roc_auc')\n",
    "#    results2 = cross_val_score(clf, X, y, cv= i, scoring='accuracy')\n",
    "#    mean_auc.append(results1.mean())\n",
    "#    mean_acc.append(results2.mean())\n",
    "    "
   ]
  },
  {
   "cell_type": "markdown",
   "metadata": {},
   "source": [
    "The above code will produce the lists created below, but takes a few seconds to run, which is why its hashed out."
   ]
  },
  {
   "cell_type": "code",
   "execution_count": 76,
   "metadata": {},
   "outputs": [],
   "source": [
    "mean_auc = [0, 0, 0.9247410245494537, 0.9416585445094215, \n",
    "            0.9409024103468547, 0.9408391608391609, 0.944718792866941, \n",
    "            0.9407450846511901, 0.9402112369337978, 0.9395208700764256, 0.942114898989899, \n",
    "            0.9367049808429119, 0.9412037037037039, 0.9356602564102564, 0.9400879917184267]\n",
    "mean_acc = [0, 0, 0.9138170811518325, 0.9190657808398951, 0.9217379385964912, \n",
    "            0.9218701298701297, 0.921792328042328, 0.9240414347557205, 0.9243434740917644, \n",
    "            0.9243878429924942,0.924355326986906, 0.9243230625583567, 0.9243951612903226, 0.9245737021599089,\n",
    "            0.9239222508926943]"
   ]
  },
  {
   "cell_type": "code",
   "execution_count": 77,
   "metadata": {},
   "outputs": [
    {
     "name": "stdout",
     "output_type": "stream",
     "text": [
      "[0, 0, 0.9247410245494537, 0.9416585445094215, 0.9409024103468547, 0.9408391608391609, 0.944718792866941, 0.9407450846511901, 0.9402112369337978, 0.9395208700764256, 0.942114898989899, 0.9367049808429119, 0.9412037037037039, 0.9356602564102564, 0.9400879917184267]\n",
      "[0, 0, 0.9138170811518325, 0.9190657808398951, 0.9217379385964912, 0.9218701298701297, 0.921792328042328, 0.9240414347557205, 0.9243434740917644, 0.9243878429924942, 0.924355326986906, 0.9243230625583567, 0.9243951612903226, 0.9245737021599089, 0.9239222508926943]\n"
     ]
    }
   ],
   "source": [
    "\n",
    "print(mean_auc)\n",
    "print(mean_acc)"
   ]
  },
  {
   "cell_type": "code",
   "execution_count": null,
   "metadata": {},
   "outputs": [],
   "source": []
  },
  {
   "cell_type": "code",
   "execution_count": null,
   "metadata": {},
   "outputs": [],
   "source": []
  },
  {
   "cell_type": "code",
   "execution_count": 90,
   "metadata": {},
   "outputs": [
    {
     "data": {
      "text/plain": [
       "<matplotlib.legend.Legend at 0x1a159a1da0>"
      ]
     },
     "execution_count": 90,
     "metadata": {},
     "output_type": "execute_result"
    },
    {
     "data": {
      "image/png": "[encoded data removed]",
      "text/plain": [
       "<matplotlib.figure.Figure at 0x1a13ef2908>"
      ]
     },
     "metadata": {},
     "output_type": "display_data"
    }
   ],
   "source": [
    "plt.figure(figsize=(7,5))\n",
    "plt.xlim(2,len(mean_auc))\n",
    "plt.ylim(0.90,0.96)\n",
    "plt.plot(mean_auc, color='blue', label='Mean ROC-AUC')\n",
    "plt.plot(mean_acc, color='orange', label = 'Mean Accuracy')\n",
    "plt.xlabel('CV Folds')\n",
    "plt.ylabel('Performance')\n",
    "plt.title('Logistic Model Performance vs CV Folds')\n",
    "plt.tight_layout()\n",
    "plt.legend(loc=5)"
   ]
  },
  {
   "cell_type": "code",
   "execution_count": null,
   "metadata": {},
   "outputs": [],
   "source": []
  },
  {
   "cell_type": "code",
   "execution_count": null,
   "metadata": {},
   "outputs": [],
   "source": []
  },
  {
   "cell_type": "code",
   "execution_count": null,
   "metadata": {},
   "outputs": [],
   "source": []
  },
  {
   "cell_type": "code",
   "execution_count": null,
   "metadata": {},
   "outputs": [],
   "source": []
  },
  {
   "cell_type": "code",
   "execution_count": null,
   "metadata": {},
   "outputs": [],
   "source": []
  },
  {
   "cell_type": "code",
   "execution_count": null,
   "metadata": {},
   "outputs": [],
   "source": []
  }
 ],
 "metadata": {
  "kernelspec": {
   "display_name": "Python 3",
   "language": "python",
   "name": "python3"
  },
  "language_info": {
   "codemirror_mode": {
    "name": "ipython",
    "version": 3
   },
   "file_extension": ".py",
   "mimetype": "text/x-python",
   "name": "python",
   "nbconvert_exporter": "python",
   "pygments_lexer": "ipython3",
   "version": "3.6.4"
  }
 },
 "nbformat": 4,
 "nbformat_minor": 2
}
